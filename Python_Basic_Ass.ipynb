{
  "nbformat": 4,
  "nbformat_minor": 0,
  "metadata": {
    "colab": {
      "provenance": []
    },
    "kernelspec": {
      "name": "python3",
      "display_name": "Python 3"
    },
    "language_info": {
      "name": "python"
    }
  },
  "cells": [
    {
      "cell_type": "code",
      "execution_count": null,
      "metadata": {
        "id": "58GWrxqrluPM"
      },
      "outputs": [],
      "source": []
    },
    {
      "cell_type": "markdown",
      "source": [
        "1 - Explain the key features of Python that make it a popular choice for programming.\n",
        "\n",
        "Global Usage: Python is used by businesses all over the world for their technology solutions, and other industries as well that makes Python a demanding choice for programming.\n",
        "\n",
        "Simplicity:-Python is a great language for beginners because of its clear and straightforward syntax. Its English-based commands and simple style make the learning easy.\n",
        "\n",
        "Source & Libraries:- Python provides wide source, a huge ecosystem of libraries and frameworks. Example - data analysis (pandas, NumPy), machine learning (TensorFlow, scikit-learn).\n",
        "\n",
        "Python is adaptable and flexible:-Since Python is a general-purpose language, a vast range of applications can be made using it.\n",
        "\n",
        "2 - Describe the role of predefined keywords in python and provide example of how they are used in a programme.\n",
        "\n",
        "Some of the Python keywords are following:\n",
        "\n",
        "True , False and None: - They present Boolean value. They are also used in conditional statements for executing the code of block.\n"
      ],
      "metadata": {
        "id": "iH_NBRDXsRTc"
      }
    },
    {
      "cell_type": "code",
      "source": [
        "#example of True, False and none\n",
        "a=5\n",
        "b=10\n",
        "c=b>a\n",
        "print(c)"
      ],
      "metadata": {
        "colab": {
          "base_uri": "https://localhost:8080/"
        },
        "id": "0ovAG3cJtIJw",
        "outputId": "f031e318-2208-4fb5-d23d-d184f5c12c2a"
      },
      "execution_count": 1,
      "outputs": [
        {
          "output_type": "stream",
          "name": "stdout",
          "text": [
            "True\n"
          ]
        }
      ]
    },
    {
      "cell_type": "code",
      "source": [],
      "metadata": {
        "id": "4FrkiAb0tgiX"
      },
      "execution_count": null,
      "outputs": []
    },
    {
      "cell_type": "markdown",
      "source": [
        "in,is,or,not,and:- These keywords are used for logical problem.\n",
        "\n",
        "and :- The “and” keyword will express True if both the statements are true otherwise it will state False.\n"
      ],
      "metadata": {
        "id": "UhedqNWntmJM"
      }
    },
    {
      "cell_type": "code",
      "source": [
        "#example of and"
      ],
      "metadata": {
        "id": "qrVARjF7tulo"
      },
      "execution_count": 2,
      "outputs": []
    },
    {
      "cell_type": "code",
      "source": [
        "x=(40>20 and 30>10)\n",
        "print(x)\n",
        "\n"
      ],
      "metadata": {
        "colab": {
          "base_uri": "https://localhost:8080/"
        },
        "id": "rbQahpBFt2Xk",
        "outputId": "c2a29d8c-e043-48e0-856f-2027c9c4f3a3"
      },
      "execution_count": 6,
      "outputs": [
        {
          "output_type": "stream",
          "name": "stdout",
          "text": [
            "True\n"
          ]
        }
      ]
    },
    {
      "cell_type": "code",
      "source": [
        "#example of or\n",
        "x= 5>4 or 4>5\n",
        "print(x)"
      ],
      "metadata": {
        "colab": {
          "base_uri": "https://localhost:8080/"
        },
        "id": "yeLobB05uUaU",
        "outputId": "e4a24ad7-f166-47d8-886b-35c678582c61"
      },
      "execution_count": 8,
      "outputs": [
        {
          "output_type": "stream",
          "name": "stdout",
          "text": [
            "True\n"
          ]
        }
      ]
    },
    {
      "cell_type": "markdown",
      "source": [
        "Not:- The “Not” keyword express true if the statement is false\n",
        "\n"
      ],
      "metadata": {
        "id": "nojjv2DhxkzV"
      }
    },
    {
      "cell_type": "code",
      "source": [
        "#example of Not\n",
        "x = True\n",
        "print(not x)"
      ],
      "metadata": {
        "colab": {
          "base_uri": "https://localhost:8080/"
        },
        "id": "BTWJt4Gvxrnq",
        "outputId": "283a2c9e-b181-4f25-c494-0937ae735feb"
      },
      "execution_count": 9,
      "outputs": [
        {
          "output_type": "stream",
          "name": "stdout",
          "text": [
            "False\n"
          ]
        }
      ]
    },
    {
      "cell_type": "markdown",
      "source": [
        "Is:-  The ‘is’ keyword express true if one statement is equal to the other one if not then it express false"
      ],
      "metadata": {
        "id": "IS-THbBbyiQm"
      }
    },
    {
      "cell_type": "code",
      "source": [
        "x= ( \"yellow\",\"black\",\"white\" )\n",
        "y=x\n",
        "print(x is y)"
      ],
      "metadata": {
        "colab": {
          "base_uri": "https://localhost:8080/"
        },
        "id": "aPAe4KlEym2k",
        "outputId": "138cca42-1b4b-4ce8-b1c1-fd4b3a8bb4d5"
      },
      "execution_count": 14,
      "outputs": [
        {
          "output_type": "stream",
          "name": "stdout",
          "text": [
            "True\n"
          ]
        }
      ]
    },
    {
      "cell_type": "markdown",
      "source": [
        "3 - Compare and contrast mutable and immutable objects in Python with examples.\n",
        "\n",
        "Immutable objects:- Datatypes such as int, float, bool, text, Unicode, and tuple are all built into immutable objects. To put it simply, once an immutable object is formed, it cannot be altered."
      ],
      "metadata": {
        "id": "i9fNx3QpzqJi"
      }
    },
    {
      "cell_type": "code",
      "source": [
        "\n",
        "#example  of immutable object\n",
        "name=\"neha\"\n",
        "print(name)"
      ],
      "metadata": {
        "colab": {
          "base_uri": "https://localhost:8080/"
        },
        "id": "IkesUiAbzzEG",
        "outputId": "709bf40d-60a9-4a59-df47-c2ea9007986e"
      },
      "execution_count": 15,
      "outputs": [
        {
          "output_type": "stream",
          "name": "stdout",
          "text": [
            "neha\n"
          ]
        }
      ]
    },
    {
      "cell_type": "code",
      "source": [
        "name=\"Neha\"\n",
        "print(name)"
      ],
      "metadata": {
        "colab": {
          "base_uri": "https://localhost:8080/"
        },
        "id": "DVFLFzcf0gMb",
        "outputId": "236309e6-f480-42ed-b786-bc82c493b1a5"
      },
      "execution_count": 16,
      "outputs": [
        {
          "output_type": "stream",
          "name": "stdout",
          "text": [
            "Neha\n"
          ]
        }
      ]
    },
    {
      "cell_type": "markdown",
      "source": [
        "thus, strings are immutable.\n",
        "\n",
        "Mutable Objects:- Python lists, Python dicts, and Python sets are the types of mutable objects. In general, custom classes can be changed."
      ],
      "metadata": {
        "id": "0r1MFoPd0wgU"
      }
    },
    {
      "cell_type": "code",
      "source": [
        "numbers = [1,2,3,4]\n",
        "numbers.append(5)\n",
        "print(numbers)"
      ],
      "metadata": {
        "colab": {
          "base_uri": "https://localhost:8080/"
        },
        "id": "_Vz2szZF07-V",
        "outputId": "dc5542e0-eeb0-461b-f562-3adc7bd24132"
      },
      "execution_count": 17,
      "outputs": [
        {
          "output_type": "stream",
          "name": "stdout",
          "text": [
            "[1, 2, 3, 4, 5]\n"
          ]
        }
      ]
    },
    {
      "cell_type": "code",
      "source": [
        "#thus, list is mutable object."
      ],
      "metadata": {
        "id": "_dZ5AaoB1QAD"
      },
      "execution_count": null,
      "outputs": []
    },
    {
      "cell_type": "markdown",
      "source": [
        "4 - Discuss the different types of operators in Python and provide examples of how they are used.\n",
        "\n",
        "operators are used in Python programming to manipulate variables and values. These are common symbols for mathematical and logical procedures. We shall examine many kinds of Python operators in this article"
      ],
      "metadata": {
        "id": "7-LK5yBQ1c1s"
      }
    },
    {
      "cell_type": "code",
      "source": [
        "#Arithematic Operator\n",
        "#example\n",
        "a=5\n",
        "b=8\n",
        "print(a+b)"
      ],
      "metadata": {
        "colab": {
          "base_uri": "https://localhost:8080/"
        },
        "id": "n1ZvZr5f2ymJ",
        "outputId": "99c1e0a2-4368-4d4a-e8a9-2788829409e4"
      },
      "execution_count": 18,
      "outputs": [
        {
          "output_type": "stream",
          "name": "stdout",
          "text": [
            "13\n"
          ]
        }
      ]
    },
    {
      "cell_type": "code",
      "source": [
        "print(a-b)"
      ],
      "metadata": {
        "colab": {
          "base_uri": "https://localhost:8080/"
        },
        "id": "w7kOPzmO3Dly",
        "outputId": "2a64059d-9f68-4903-de8c-0c77e1793d08"
      },
      "execution_count": 19,
      "outputs": [
        {
          "output_type": "stream",
          "name": "stdout",
          "text": [
            "-3\n"
          ]
        }
      ]
    },
    {
      "cell_type": "code",
      "source": [
        "print(a*b)"
      ],
      "metadata": {
        "colab": {
          "base_uri": "https://localhost:8080/"
        },
        "id": "GO4oc-di3Gd5",
        "outputId": "4fcf9676-bd81-419b-b05a-ac0370453392"
      },
      "execution_count": 20,
      "outputs": [
        {
          "output_type": "stream",
          "name": "stdout",
          "text": [
            "40\n"
          ]
        }
      ]
    },
    {
      "cell_type": "code",
      "source": [
        "print(a/b)"
      ],
      "metadata": {
        "colab": {
          "base_uri": "https://localhost:8080/"
        },
        "id": "HibD8d--3Kkw",
        "outputId": "25db4cee-68f2-4e91-9cae-770187450ceb"
      },
      "execution_count": 21,
      "outputs": [
        {
          "output_type": "stream",
          "name": "stdout",
          "text": [
            "0.625\n"
          ]
        }
      ]
    },
    {
      "cell_type": "code",
      "source": [
        "print(b%a)"
      ],
      "metadata": {
        "colab": {
          "base_uri": "https://localhost:8080/"
        },
        "id": "21NXbX283OHY",
        "outputId": "a0fc2f35-a154-4dbf-e0ac-de5c2df45714"
      },
      "execution_count": 22,
      "outputs": [
        {
          "output_type": "stream",
          "name": "stdout",
          "text": [
            "3\n"
          ]
        }
      ]
    },
    {
      "cell_type": "code",
      "source": [
        "#Comparison Operator\n",
        "#Example\n",
        "c=5\n",
        "print(a==b)\n",
        "print(a==c)"
      ],
      "metadata": {
        "colab": {
          "base_uri": "https://localhost:8080/"
        },
        "id": "DBbJefP23X6a",
        "outputId": "76246eb6-7759-4d7e-c088-b2533b1af797"
      },
      "execution_count": 26,
      "outputs": [
        {
          "output_type": "stream",
          "name": "stdout",
          "text": [
            "False\n",
            "True\n"
          ]
        }
      ]
    },
    {
      "cell_type": "code",
      "source": [
        "print(a!=b)\n",
        "print(a!=c)"
      ],
      "metadata": {
        "colab": {
          "base_uri": "https://localhost:8080/"
        },
        "id": "D1D-1yDi4DD6",
        "outputId": "bf2b8c4c-47fd-40f5-b587-9173bfba9d85"
      },
      "execution_count": 27,
      "outputs": [
        {
          "output_type": "stream",
          "name": "stdout",
          "text": [
            "True\n",
            "False\n"
          ]
        }
      ]
    },
    {
      "cell_type": "code",
      "source": [
        "print(a>b)\n",
        "print(b>c)"
      ],
      "metadata": {
        "colab": {
          "base_uri": "https://localhost:8080/"
        },
        "id": "9PdUHktg4Veh",
        "outputId": "06192584-9e22-43bc-87b0-cab765c49f3b"
      },
      "execution_count": 28,
      "outputs": [
        {
          "output_type": "stream",
          "name": "stdout",
          "text": [
            "False\n",
            "True\n"
          ]
        }
      ]
    },
    {
      "cell_type": "code",
      "source": [
        "print(c<b)"
      ],
      "metadata": {
        "colab": {
          "base_uri": "https://localhost:8080/"
        },
        "id": "w9-u53c_5BM5",
        "outputId": "4cebe928-e8cd-4d3a-bc04-7df4f61af949"
      },
      "execution_count": 29,
      "outputs": [
        {
          "output_type": "stream",
          "name": "stdout",
          "text": [
            "True\n"
          ]
        }
      ]
    },
    {
      "cell_type": "code",
      "source": [
        "print(a<=b)\n",
        "print(a<=c)"
      ],
      "metadata": {
        "colab": {
          "base_uri": "https://localhost:8080/"
        },
        "id": "nNyvzqcf5J1Y",
        "outputId": "d70ffb83-5abb-4963-dc05-b8d5432231d8"
      },
      "execution_count": 30,
      "outputs": [
        {
          "output_type": "stream",
          "name": "stdout",
          "text": [
            "True\n",
            "True\n"
          ]
        }
      ]
    },
    {
      "cell_type": "code",
      "source": [
        "print(a>=b)"
      ],
      "metadata": {
        "colab": {
          "base_uri": "https://localhost:8080/"
        },
        "id": "7ZTfuBvc5i8Y",
        "outputId": "281c829a-71ad-47d8-f9ef-84bda1f57cf4"
      },
      "execution_count": 32,
      "outputs": [
        {
          "output_type": "stream",
          "name": "stdout",
          "text": [
            "False\n"
          ]
        }
      ]
    },
    {
      "cell_type": "markdown",
      "source": [
        "5 - Explain the concept of type casting in Python with example.\n",
        "\n",
        "The process of transforming a Python specific variable datatype into a data type so that users can carry out the necessary operation is known as type casting. We shall examine the different typecasting approaches in article. In Python, type casting can this take two forms:\n",
        "\n",
        "1-\tPython Implicit Type Conversion:-  In this, method, Python converts the datatype into another datatype on its own. Users don’t have to involve in this process.\n"
      ],
      "metadata": {
        "id": "R7NFAHN25_Ya"
      }
    },
    {
      "cell_type": "markdown",
      "source": [],
      "metadata": {
        "id": "agkEOWSm6hd0"
      }
    },
    {
      "cell_type": "code",
      "source": [
        "print(type(a))"
      ],
      "metadata": {
        "colab": {
          "base_uri": "https://localhost:8080/"
        },
        "id": "sgDaFhBY6o0g",
        "outputId": "998e7cd3-a2cf-4b03-8d73-e72e1a620d69"
      },
      "execution_count": 33,
      "outputs": [
        {
          "output_type": "stream",
          "name": "stdout",
          "text": [
            "<class 'int'>\n"
          ]
        }
      ]
    },
    {
      "cell_type": "markdown",
      "source": [
        "2-\tPython Explicit Type Conversion:- Python requires user intervention in order to change the variable data type to the desired data type in this procedure."
      ],
      "metadata": {
        "id": "6NXumlRK60Y0"
      }
    },
    {
      "cell_type": "code",
      "source": [
        "a=str(\"a\")\n",
        "print(type(a))"
      ],
      "metadata": {
        "colab": {
          "base_uri": "https://localhost:8080/"
        },
        "id": "k1N7fOTE62z9",
        "outputId": "e8810205-4e38-4a69-972d-4a582fe9285b"
      },
      "execution_count": 38,
      "outputs": [
        {
          "output_type": "stream",
          "name": "stdout",
          "text": [
            "<class 'str'>\n"
          ]
        }
      ]
    },
    {
      "cell_type": "markdown",
      "source": [
        "6 - How do conditional statements work in Python? Illustrate with the example.\n",
        "\n",
        "Conditional statements:-   conditional statements provide the control flow an option depending on a condition. It indicates that the outcome of the condition will determine the Python program's control flow.\n"
      ],
      "metadata": {
        "id": "-txmDtSn7g0r"
      }
    },
    {
      "cell_type": "code",
      "source": [
        "# if statement\n",
        "if 10>5:\n",
        "  print(\"10 is greater than 5\")"
      ],
      "metadata": {
        "colab": {
          "base_uri": "https://localhost:8080/"
        },
        "id": "Hgbakcn47tKv",
        "outputId": "26ba914e-2531-4e90-a00a-6c64ce52e4b8"
      },
      "execution_count": 40,
      "outputs": [
        {
          "output_type": "stream",
          "name": "stdout",
          "text": [
            "10 is greater than 5\n"
          ]
        }
      ]
    },
    {
      "cell_type": "code",
      "source": [
        "# if esle statement\n",
        "x=7\n",
        "if x==5:\n",
        "  print(\"yes\")\n",
        "else:\n",
        "    print(\"no\")"
      ],
      "metadata": {
        "colab": {
          "base_uri": "https://localhost:8080/"
        },
        "id": "nW__eKBb8BYo",
        "outputId": "1204ba3b-c62f-4786-cf66-46f52b349ba6"
      },
      "execution_count": 42,
      "outputs": [
        {
          "output_type": "stream",
          "name": "stdout",
          "text": [
            "no\n"
          ]
        }
      ]
    },
    {
      "cell_type": "code",
      "source": [
        "#nested if else statement\n",
        "letter = \"a\"\n",
        "\n",
        "if letter == \"b\":\n",
        "    print(\"letter is b\")\n",
        "\n",
        "else:\n",
        "\n",
        "    if letter == \"c\":\n",
        "        print(\"letter is c\")\n",
        "\n",
        "    else:\n",
        "\n",
        "        if letter == \"A\":\n",
        "            print(\"letter is a\")\n",
        "\n",
        "        else:\n",
        "            print(\"letter isn't a, b and c\")"
      ],
      "metadata": {
        "colab": {
          "base_uri": "https://localhost:8080/"
        },
        "id": "ZR1fOgkM9WLX",
        "outputId": "3f8c95a9-798b-439c-c156-b575ff143639"
      },
      "execution_count": 54,
      "outputs": [
        {
          "output_type": "stream",
          "name": "stdout",
          "text": [
            "letter isn't a, b and c\n"
          ]
        }
      ]
    },
    {
      "cell_type": "code",
      "source": [
        "#if elif statement\n",
        "letter = \"a\"\n",
        "\n",
        "if letter == \"b\":\n",
        "    print(\"letter is b\")\n",
        "\n",
        "elif letter == \"c\":\n",
        "    print(\"letter is c\")\n",
        "\n",
        "elif letter == \"a\":\n",
        "    print(\"letter is a\")\n",
        "\n",
        "else:\n",
        "    print(\"letter isn't a, b or c\")"
      ],
      "metadata": {
        "colab": {
          "base_uri": "https://localhost:8080/"
        },
        "id": "icBzRFPM-rJH",
        "outputId": "ed8da7a6-4a94-49a5-e3dc-99a1905f168b"
      },
      "execution_count": 55,
      "outputs": [
        {
          "output_type": "stream",
          "name": "stdout",
          "text": [
            "letter is a\n"
          ]
        }
      ]
    },
    {
      "cell_type": "markdown",
      "source": [
        "7 - Describe the different types of loops in python and their use cases with example.\n",
        "\n",
        "While Loop in Python\n",
        "\n",
        "In Python, a while loop is used to execute a block of statements repeatedly until a given condition is satisfied. When the condition becomes false, the line immediately after the loop in the program is executed\n"
      ],
      "metadata": {
        "id": "P8Xpy7wtDA7d"
      }
    },
    {
      "cell_type": "code",
      "source": [
        "count = 0\n",
        "while (count < 5):\n",
        "    count = count + 1\n",
        "    print(\"Hello Neha\")"
      ],
      "metadata": {
        "colab": {
          "base_uri": "https://localhost:8080/"
        },
        "id": "jdK3qGXODrHJ",
        "outputId": "36577f78-e10b-4d9f-91b8-77b783415070"
      },
      "execution_count": 56,
      "outputs": [
        {
          "output_type": "stream",
          "name": "stdout",
          "text": [
            "Hello Neha\n",
            "Hello Neha\n",
            "Hello Neha\n",
            "Hello Neha\n",
            "Hello Neha\n"
          ]
        }
      ]
    },
    {
      "cell_type": "code",
      "source": [
        "n = 8\n",
        "for i in range(0, n):\n",
        "    print(i)"
      ],
      "metadata": {
        "colab": {
          "base_uri": "https://localhost:8080/"
        },
        "id": "vv5SQJ8CD8V1",
        "outputId": "842cf84f-d545-4988-d969-a448d18d9b0d"
      },
      "execution_count": 57,
      "outputs": [
        {
          "output_type": "stream",
          "name": "stdout",
          "text": [
            "0\n",
            "1\n",
            "2\n",
            "3\n",
            "4\n",
            "5\n",
            "6\n",
            "7\n"
          ]
        }
      ]
    },
    {
      "cell_type": "code",
      "source": [],
      "metadata": {
        "id": "CfCXvHhKEFY9"
      },
      "execution_count": null,
      "outputs": []
    }
  ]
}