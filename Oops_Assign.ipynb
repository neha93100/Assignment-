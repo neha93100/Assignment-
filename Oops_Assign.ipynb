{
  "nbformat": 4,
  "nbformat_minor": 0,
  "metadata": {
    "colab": {
      "provenance": []
    },
    "kernelspec": {
      "name": "python3",
      "display_name": "Python 3"
    },
    "language_info": {
      "name": "python"
    }
  },
  "cells": [
    {
      "cell_type": "markdown",
      "source": [
        "Ans - **Capsulization**\n",
        "Encapsulation is the process of combining methods (functions) that manipulate data and data (attributes) into a single unit known as a class. In order to preserve data integrity and conceal the internal implementation details, it also entails limiting direct access to parts of an object's components. Access modifiers like private, protected, and public are frequently used to do this.\n",
        "\n",
        "**Abstraction**\n",
        "The goal of abstraction is to conceal an object's technical details while revealing only its key characteristics. It lowers complexity and enables developers to operate at a higher level of reasoning. An abstract class or interface, for instance, can serve as a model for other classes without dictating how the methods are to be implemented.\n",
        "\n",
        "**The inheritance**\n",
        "One class (child or subclass) can inherit the attributes and functions of another class (parent or superclass) through inheritance. This creates a link between classes and encourages code reuse. Additionally, it facilitates polymorphism and hierarchical classification.\n",
        "\n",
        "**Variability**\n",
        "Objects can be viewed as instances of their parent class instead of their own class thanks to polymorphism. Method overriding (runtime polymorphism) or overloading (compile-time polymorphism) are two ways to accomplish this. Flexibility and the utilization of the same interface for various underlying data kinds are made possible by it.\n",
        "\n",
        "**Association, Aggregation, and Composition (Composition)**\n",
        "Despite being less frequently mentioned as a \"core\" notion than the aforementioned, composition is just as significant. It describes the capacity to combine simpler objects to create more complex ones. Aggregation (a \"has-a\" relationship with separate lifetimes), composition (a \"has-a\" relationship where the lifetimes of the parts depend on the whole), and association (a link between objects) can all be involved.\n",
        "\n",
        "\n"
      ],
      "metadata": {
        "id": "u-xkZ__4Uqar"
      }
    },
    {
      "cell_type": "markdown",
      "source": [
        "2 - Write a Python class for a `Car` with attributes for `make`, `model`, and `year`. Include a method to display the car's information."
      ],
      "metadata": {
        "id": "wV3R1wCTWBag"
      }
    },
    {
      "cell_type": "code",
      "source": [
        "class Car:\n",
        "    def __init__(self, make, model, year):\n",
        "        \"\"\"Initialize the car with make, model, and year.\"\"\"\n",
        "        self.make = make\n",
        "        self.model = model\n",
        "        self.year = year\n",
        "\n",
        "    def display_info(self):\n",
        "        \"\"\"Display the car's information.\"\"\"\n",
        "        return f\"{self.year} {self.make} {self.model}\"\n",
        "\n",
        "# Example usage\n",
        "my_car = Car(\"Toyota\", \"Corolla\", 2022)\n",
        "print(my_car.display_info())\n"
      ],
      "metadata": {
        "colab": {
          "base_uri": "https://localhost:8080/"
        },
        "id": "84ACq8i-WUwk",
        "outputId": "cd1e86cc-3552-436c-cad1-636d13acc23e"
      },
      "execution_count": null,
      "outputs": [
        {
          "output_type": "stream",
          "name": "stdout",
          "text": [
            "2022 Toyota Corolla\n"
          ]
        }
      ]
    },
    {
      "cell_type": "markdown",
      "source": [
        "3 - Explain the difference between instance methods and class methods. Provide an example of each.\n",
        "\n",
        "Answer - **Instance Methods**\n",
        "Definition: These methods are bound to an instance of the class and can access instance attributes and methods using the self parameter.\n",
        "Purpose: They operate on individual objects (instances) of the class.\n",
        "Invocation: Called on an instance of the class.\n",
        "\n",
        "**Class Methods**\n",
        "Definition: These methods are bound to the class rather than an instance and use cls (the class itself) as the first parameter.\n",
        "Purpose: They often operate on class-level attributes or perform tasks related to the class as a whole, not a specific instance.\n",
        "Decorator: Marked with @classmethod.\n",
        "Invocation: Called on the class itself or an instance."
      ],
      "metadata": {
        "id": "DBQPS4PPWhtw"
      }
    },
    {
      "cell_type": "code",
      "source": [
        "#example of instance method\n",
        "class Example:\n",
        "    def __init__(self, value):\n",
        "        self.value = value\n",
        "\n",
        "    def instance_method(self):\n",
        "        return f\"Instance value: {self.value}\"\n",
        "\n",
        "# Usage\n",
        "obj = Example(42)\n",
        "print(obj.instance_method())\n"
      ],
      "metadata": {
        "colab": {
          "base_uri": "https://localhost:8080/"
        },
        "id": "gElptD3IWu-4",
        "outputId": "01b5462f-91cc-4f1b-8ca6-f09d4dca9a9b"
      },
      "execution_count": null,
      "outputs": [
        {
          "output_type": "stream",
          "name": "stdout",
          "text": [
            "Instance value: 42\n"
          ]
        }
      ]
    },
    {
      "cell_type": "code",
      "source": [
        "#example of class method\n",
        "class Example:\n",
        "    class_variable = \"shared\"\n",
        "\n",
        "    @classmethod\n",
        "    def class_method(cls):\n",
        "        return f\"Class variable: {cls.class_variable}\"\n",
        "\n",
        "# Usage\n",
        "print(Example.class_method())\n"
      ],
      "metadata": {
        "colab": {
          "base_uri": "https://localhost:8080/"
        },
        "id": "MtqP06jnW3gW",
        "outputId": "52f768df-c97b-4ce7-bdf8-ca29c479774d"
      },
      "execution_count": null,
      "outputs": [
        {
          "output_type": "stream",
          "name": "stdout",
          "text": [
            "Class variable: shared\n"
          ]
        }
      ]
    },
    {
      "cell_type": "markdown",
      "source": [
        "4 - How does Python implement method overloading? Give an example.\n",
        "Answer - Unlike some other languages like Java or C++, Python does not explicitly enable method overloading, which is the practice of defining many methods with the same name but distinct argument lists. Rather, Python accomplishes comparable functionality by using default arguments and methods such as using *args and **kwargs to handle variable parameters.\n",
        "\n",
        "**Python Overloading Using Default Arguments**: To give you flexibility in how the method is called, you can define a single method and set some of its parameters to default values.\n",
        "\n",
        "You may handle a variable amount of positional and keyword arguments by using *args and **kwargs, which enables more dynamic behavior.\n",
        "\n",
        "**Why No Direct Overloading?**\n",
        "Python's dynamic typing and flexible function signatures reduce the need for strict method overloading. Instead, these techniques allow a single method to handle multiple scenarios. For more complex behavior, you can use conditional logic inside the method to differentiate actions based on the arguments' types or count.\n",
        "\n",
        "\n"
      ],
      "metadata": {
        "id": "Tqes-tlFXLfx"
      }
    },
    {
      "cell_type": "code",
      "source": [
        "#example of using default arguments\n",
        "class Example:\n",
        "    def greet(self, name=\"Guest\"):\n",
        "        return f\"Hello, {name}!\"\n",
        "\n",
        "# Usage\n",
        "obj = Example()\n",
        "print(obj.greet())\n",
        "print(obj.greet(\"Alice\"))\n",
        "\n"
      ],
      "metadata": {
        "colab": {
          "base_uri": "https://localhost:8080/"
        },
        "id": "7XW183KyX7mP",
        "outputId": "3bbf0942-71a6-4828-fb1d-02629da00724"
      },
      "execution_count": null,
      "outputs": [
        {
          "output_type": "stream",
          "name": "stdout",
          "text": [
            "Hello, Guest!\n",
            "Hello, Alice!\n"
          ]
        }
      ]
    },
    {
      "cell_type": "code",
      "source": [
        "#example of *args* and *kwargs*\n",
        "class Calculator:\n",
        "    def add(self, *args):\n",
        "        return sum(args)\n",
        "\n",
        "# Usage\n",
        "calc = Calculator()\n",
        "print(calc.add(1, 2))\n",
        "print(calc.add(1, 2, 3, 4))\n",
        "\n"
      ],
      "metadata": {
        "colab": {
          "base_uri": "https://localhost:8080/"
        },
        "id": "WtOgOHiJYJfm",
        "outputId": "14cc53e0-2c08-4177-fbd0-8f5d4e60175f"
      },
      "execution_count": null,
      "outputs": [
        {
          "output_type": "stream",
          "name": "stdout",
          "text": [
            "3\n",
            "10\n"
          ]
        }
      ]
    },
    {
      "cell_type": "code",
      "source": [
        "#example of conditional logic\n",
        "class Display:\n",
        "    def show(self, data):\n",
        "        if isinstance(data, int):\n",
        "            return f\"Integer: {data}\"\n",
        "        elif isinstance(data, str):\n",
        "            return f\"String: {data}\"\n",
        "        else:\n",
        "            return \"Unsupported type\"\n",
        "\n",
        "# Usage\n",
        "obj = Display()\n",
        "print(obj.show(42))\n",
        "print(obj.show(\"hello\"))\n"
      ],
      "metadata": {
        "colab": {
          "base_uri": "https://localhost:8080/"
        },
        "id": "kcNEhqRRYT5Q",
        "outputId": "38fcc84e-c882-40e4-c137-5f8db3a5b63d"
      },
      "execution_count": null,
      "outputs": [
        {
          "output_type": "stream",
          "name": "stdout",
          "text": [
            "Integer: 42\n",
            "String: hello\n"
          ]
        }
      ]
    },
    {
      "cell_type": "markdown",
      "source": [
        "5 - What are the three types of access modifiers in Python? How are they denoted?\n",
        "\n",
        "Answer - n Python, access modifiers control the accessibility of class attributes and methods. While Python does not enforce strict access control like some other languages (e.g., Java or C++), it provides conventions to indicate access levels. The three types of access modifiers in Python are:\n",
        "\n",
        "**Public**\n",
        "Definition: Public members are accessible from anywhere in the program (both inside and outside the class).\n",
        "Notation: No leading underscores (the default).\n",
        "\n",
        "**Protected**\n",
        "Definition: Protected members are intended to be accessed only within the class and its subclasses. However, they can still be accessed outside the class (Python does not strictly enforce this).\n",
        "Notation: A single leading underscore (_).\n",
        "\n",
        "**Private**\n",
        "Definition: Private members are intended to be accessed only within the class. Python implements private members through name mangling, where the name is internally changed to make accidental access more difficult.\n",
        "Notation: Two leading underscores (__).\n",
        "\n",
        "Key Points:\n",
        "Public: No underscore; accessible everywhere.\n",
        "Protected: One underscore (_); intended for internal or subclass use, but accessible outside.\n",
        "Private: Two underscores (__); not directly accessible from outside due to name mangling.\n"
      ],
      "metadata": {
        "id": "TtPJzDQ2Ye8m"
      }
    },
    {
      "cell_type": "code",
      "source": [
        "#example of public modifiers\n",
        "class Example:\n",
        "    def __init__(self):\n",
        "        self.public_attribute = \"I am public\"\n",
        "\n",
        "    def public_method(self):\n",
        "        return \"This is a public method\"\n",
        "\n",
        "obj = Example()\n",
        "print(obj.public_attribute)\n",
        "print(obj.public_method())\n"
      ],
      "metadata": {
        "colab": {
          "base_uri": "https://localhost:8080/"
        },
        "id": "R_l-vvRQZTw-",
        "outputId": "3350a115-47bb-4192-bcfc-08ec91f8ea94"
      },
      "execution_count": null,
      "outputs": [
        {
          "output_type": "stream",
          "name": "stdout",
          "text": [
            "I am public\n",
            "This is a public method\n"
          ]
        }
      ]
    },
    {
      "cell_type": "code",
      "source": [
        "#example of protected modifiers\n",
        "class Example:\n",
        "    def __init__(self):\n",
        "        self._protected_attribute = \"I am protected\"\n",
        "\n",
        "    def _protected_method(self):\n",
        "        return \"This is a protected method\"\n",
        "\n",
        "obj = Example()\n",
        "print(obj._protected_attribute)\n",
        "print(obj._protected_method())\n"
      ],
      "metadata": {
        "colab": {
          "base_uri": "https://localhost:8080/"
        },
        "id": "2bsHn_eAZdLF",
        "outputId": "ef676d42-6fb1-4a6b-c3cb-db680ba96edf"
      },
      "execution_count": null,
      "outputs": [
        {
          "output_type": "stream",
          "name": "stdout",
          "text": [
            "I am protected\n",
            "This is a protected method\n"
          ]
        }
      ]
    },
    {
      "cell_type": "code",
      "source": [
        "#example of priavte modifiers\n",
        "class Example:\n",
        "    def __init__(self):\n",
        "        self.__private_attribute = \"I am private\"\n",
        "\n",
        "    def __private_method(self):\n",
        "        return \"This is a private method\"\n",
        "\n",
        "    def access_private(self):\n",
        "        return self.__private_method()\n",
        "\n",
        "obj = Example()\n",
        "# print(obj.__private_attribute)\n",
        "# print(obj.__private_method())\n",
        "print(obj.access_private())\n",
        "\n"
      ],
      "metadata": {
        "colab": {
          "base_uri": "https://localhost:8080/"
        },
        "id": "O4PVujaNZp4N",
        "outputId": "adbc5b84-c678-4070-e069-063c3e51ddc0"
      },
      "execution_count": null,
      "outputs": [
        {
          "output_type": "stream",
          "name": "stdout",
          "text": [
            "This is a private method\n"
          ]
        }
      ]
    },
    {
      "cell_type": "markdown",
      "source": [
        "6 - Describe the five types of inheritance in Python. Provide a simple example of multiple inheritance.\n",
        "\n",
        "In Python, inheritance is a mechanism that allows one class to derive or inherit properties and methods from another class. Python supports five types of inheritance:\n",
        "\n",
        "**Single Inheritance**\n",
        "A class inherits from a single parent class.\n",
        "\n",
        "**Multiple Inheritance**\n",
        "A class inherits from more than one parent class.\n",
        "\n",
        "**Multilevel Inheritance**\n",
        "A class inherits from a parent class, which itself is a child of another class.\n",
        "\n",
        "**Hierarchical Inheritance**\n",
        "Multiple child classes inherit from a single parent class.\n",
        "\n",
        "**Hybrid Inheritance**\n",
        "A combination of two or more types of inheritance. It often uses a diamond structure and may involve the method resolution order (MRO).\n",
        "\n"
      ],
      "metadata": {
        "id": "zeyqaZd4Z1Zo"
      }
    },
    {
      "cell_type": "code",
      "source": [
        "#example of single inheritance\n",
        "class Parent:\n",
        "    def greet(self):\n",
        "        print(\"Hello from Parent!\")\n",
        "\n",
        "class Child(Parent):\n",
        "    pass\n",
        "\n",
        "obj = Child()\n",
        "obj.greet()\n",
        "\n"
      ],
      "metadata": {
        "colab": {
          "base_uri": "https://localhost:8080/"
        },
        "id": "swHwC53OZ9DW",
        "outputId": "ef71291b-c817-456f-b21a-c9b83552f9b6"
      },
      "execution_count": null,
      "outputs": [
        {
          "output_type": "stream",
          "name": "stdout",
          "text": [
            "Hello from Parent!\n"
          ]
        }
      ]
    },
    {
      "cell_type": "code",
      "source": [
        "#example of multiple inheritance\n",
        "class Parent1:\n",
        "    def greet(self):\n",
        "        print(\"Hello from Parent1!\")\n",
        "\n",
        "class Parent2:\n",
        "    def greet_again(self):\n",
        "        print(\"Hello from Parent2!\")\n",
        "\n",
        "class Child(Parent1, Parent2):\n",
        "    pass\n",
        "\n",
        "obj = Child()\n",
        "obj.greet()\n",
        "obj.greet_again()\n"
      ],
      "metadata": {
        "colab": {
          "base_uri": "https://localhost:8080/"
        },
        "id": "RYd6f4BYake-",
        "outputId": "93072fc0-5959-4bb7-f1c8-6c3efbb7cd9d"
      },
      "execution_count": null,
      "outputs": [
        {
          "output_type": "stream",
          "name": "stdout",
          "text": [
            "Hello from Parent1!\n",
            "Hello from Parent2!\n"
          ]
        }
      ]
    },
    {
      "cell_type": "code",
      "source": [
        "#example of multilevel inheritance\n",
        "class Grandparent:\n",
        "    def greet(self):\n",
        "        print(\"Hello from Grandparent!\")\n",
        "\n",
        "class Parent(Grandparent):\n",
        "    pass\n",
        "\n",
        "class Child(Parent):\n",
        "    pass\n",
        "\n",
        "obj = Child()\n",
        "obj.greet()"
      ],
      "metadata": {
        "colab": {
          "base_uri": "https://localhost:8080/"
        },
        "id": "-0UmBeXYauSi",
        "outputId": "164a43c9-6e53-47d1-f857-7d6622fcab86"
      },
      "execution_count": null,
      "outputs": [
        {
          "output_type": "stream",
          "name": "stdout",
          "text": [
            "Hello from Grandparent!\n"
          ]
        }
      ]
    },
    {
      "cell_type": "code",
      "source": [
        "#example of hierarchical inheritance\n",
        "class Parent:\n",
        "    def greet(self):\n",
        "        print(\"Hello from Parent!\")\n",
        "\n",
        "class Child1(Parent):\n",
        "    pass\n",
        "\n",
        "class Child2(Parent):\n",
        "    pass\n",
        "\n",
        "obj1 = Child1()\n",
        "obj2 = Child2()\n",
        "obj1.greet()\n",
        "obj2.greet()\n"
      ],
      "metadata": {
        "colab": {
          "base_uri": "https://localhost:8080/"
        },
        "id": "fSoZU8Ola12K",
        "outputId": "4aae8c21-10b2-4c99-c02d-b23e997b863a"
      },
      "execution_count": null,
      "outputs": [
        {
          "output_type": "stream",
          "name": "stdout",
          "text": [
            "Hello from Parent!\n",
            "Hello from Parent!\n"
          ]
        }
      ]
    },
    {
      "cell_type": "code",
      "source": [
        "#example of hybrid inheritance\n",
        "class Base:\n",
        "    def greet(self):\n",
        "        print(\"Hello from Base!\")\n",
        "\n",
        "class Child1(Base):\n",
        "    pass\n",
        "\n",
        "class Child2(Base):\n",
        "    pass\n",
        "\n",
        "class Grandchild(Child1, Child2):\n",
        "    pass\n",
        "\n",
        "obj = Grandchild()\n",
        "obj.greet()\n"
      ],
      "metadata": {
        "colab": {
          "base_uri": "https://localhost:8080/"
        },
        "id": "52FWVKntbBC6",
        "outputId": "bf899b36-b76c-45e9-e150-5fa33c7f6b47"
      },
      "execution_count": null,
      "outputs": [
        {
          "output_type": "stream",
          "name": "stdout",
          "text": [
            "Hello from Base!\n"
          ]
        }
      ]
    },
    {
      "cell_type": "markdown",
      "source": [
        "7 - What is the Method Resolution Order (MRO) in Python? How can you retrieve it programmatically?\n",
        "\n",
        "Answer - When executing a method or accessing an attribute in Python, the order in which a class is searched is defined by the Method Resolution Order (MRO). In situations involving inheritance, especially multiple inheritance, it is essential. The MRO prevents ambiguity and guarantees that methods and attributes are resolved consistently.\n",
        "\n",
        "Python consistently and predictably calculates the MRO using the C3 linearization algorithm, commonly known as C3 superclass linearization. This algorithm:\n",
        "\n",
        "1 - Guarantees adherence to the inheritance hierarchy by the MRO.\n",
        "2 - Maintains the base classes' left-to-right order as defined by the class declaration.\n",
        "3 - When a method or attribute appears in more than one parent class, it resolves conflicts.\n",
        "\n",
        "\n",
        "**How to Retrieve the MRO Programmatically**\n",
        "\n",
        "\n"
      ],
      "metadata": {
        "id": "xkc8RsA_bKxB"
      }
    },
    {
      "cell_type": "code",
      "source": [
        "#Using the __mro__ attribute\n",
        "#The __mro__ attribute of a class is a tuple that lists the MRO\n",
        "class A:\n",
        "    pass\n",
        "\n",
        "class B(A):\n",
        "    pass\n",
        "\n",
        "print(B.__mro__)\n",
        "\n",
        "class B(A):\n",
        "    pass\n",
        "\n",
        "class C(A):\n",
        "    pass\n",
        "\n",
        "class D(B, C):\n",
        "    pass\n",
        "\n",
        "print(D.__mro__)\n",
        "\n"
      ],
      "metadata": {
        "colab": {
          "base_uri": "https://localhost:8080/"
        },
        "id": "raEhNXoIZ7bj",
        "outputId": "62f8e579-a612-49ae-ed86-f4a80cc35389"
      },
      "execution_count": 4,
      "outputs": [
        {
          "output_type": "stream",
          "name": "stdout",
          "text": [
            "(<class '__main__.B'>, <class '__main__.A'>, <class 'object'>)\n",
            "(<class '__main__.D'>, <class '__main__.B'>, <class '__main__.C'>, <class '__main__.A'>, <class 'object'>)\n"
          ]
        }
      ]
    },
    {
      "cell_type": "code",
      "source": [
        "# Using the mro() Method\n",
        "#The mro() method is a class method that returns the MRO as a list.\n",
        "class A:\n",
        "    pass\n",
        "\n",
        "class B(A):\n",
        "    pass\n",
        "\n",
        "print(B.mro())\n",
        "\n"
      ],
      "metadata": {
        "colab": {
          "base_uri": "https://localhost:8080/"
        },
        "id": "L1Y2WLrgaCi-",
        "outputId": "40271492-5160-4e78-b6a3-f1662d395915"
      },
      "execution_count": 5,
      "outputs": [
        {
          "output_type": "stream",
          "name": "stdout",
          "text": [
            "[<class '__main__.B'>, <class '__main__.A'>, <class 'object'>]\n"
          ]
        }
      ]
    },
    {
      "cell_type": "code",
      "source": [
        "#Using the inspect Module\n",
        "#The inspect module provides an getmro() function for retrieving the MRO.\n",
        "import inspect\n",
        "\n",
        "class A:\n",
        "    pass\n",
        "\n",
        "class B(A):\n",
        "    pass\n",
        "\n",
        "print(inspect.getmro(B))\n",
        "\n"
      ],
      "metadata": {
        "colab": {
          "base_uri": "https://localhost:8080/"
        },
        "id": "U9D5OntVampT",
        "outputId": "ef474e02-093b-4334-9985-f89e069ebc26"
      },
      "execution_count": 6,
      "outputs": [
        {
          "output_type": "stream",
          "name": "stdout",
          "text": [
            "(<class '__main__.B'>, <class '__main__.A'>, <class 'object'>)\n"
          ]
        }
      ]
    },
    {
      "cell_type": "markdown",
      "source": [
        "8 - Create an abstract base class `Shape` with an abstract method `area()`. Then create two subclasses`Circle` and `Rectangle` that implement the `area()` method.\n",
        "\n",
        "Answer - The subclasses Circle and Rectangle implement the area() method, which is defined by the abstract parent class Shape. Every subclass has a unique algorithm for figuring out the area."
      ],
      "metadata": {
        "id": "oSRGJ3j6cXhk"
      }
    },
    {
      "cell_type": "code",
      "source": [
        "from abc import ABC, abstractmethod\n",
        "import math\n",
        "\n",
        "class Shape(ABC):\n",
        "    @abstractmethod\n",
        "    def area(self):\n",
        "        pass\n",
        "\n",
        "class Circle(Shape):\n",
        "    def __init__(self, radius):\n",
        "        self.radius = radius\n",
        "\n",
        "    def area(self):\n",
        "        return math.pi * self.radius ** 2\n",
        "\n",
        "class Rectangle(Shape):\n",
        "    def __init__(self, width, height):\n",
        "        self.width = width\n",
        "        self.height = height\n",
        "\n",
        "    def area(self):\n",
        "        return self.width * self.height\n",
        "\n",
        "# Example usage\n",
        "circle = Circle(5)\n",
        "print(f\"Area of the circle: {circle.area()}\")\n",
        "\n",
        "rectangle = Rectangle(4, 7)\n",
        "print(f\"Area of the rectangle: {rectangle.area()}\")\n"
      ],
      "metadata": {
        "colab": {
          "base_uri": "https://localhost:8080/"
        },
        "id": "A68RqCT-cqpS",
        "outputId": "1233d55a-8787-474b-f82e-ab2c865c727d"
      },
      "execution_count": 7,
      "outputs": [
        {
          "output_type": "stream",
          "name": "stdout",
          "text": [
            "Area of the circle: 78.53981633974483\n",
            "Area of the rectangle: 28\n"
          ]
        }
      ]
    },
    {
      "cell_type": "markdown",
      "source": [
        "9 -Demonstrate polymorphism by creating a function that can work with different shape objects to calculate and print their areas.\n",
        "\n",
        "Answer - In order to illustrate polymorphism, I have included a method called print_area. It computes and publishes the area of every object of type Shape that it receives."
      ],
      "metadata": {
        "id": "5dnH030Ic9ho"
      }
    },
    {
      "cell_type": "code",
      "source": [
        "from abc import ABC, abstractmethod\n",
        "import math\n",
        "\n",
        "class Shape(ABC):\n",
        "    @abstractmethod\n",
        "    def area(self):\n",
        "        pass\n",
        "\n",
        "class Circle(Shape):\n",
        "    def __init__(self, radius):\n",
        "        self.radius = radius\n",
        "\n",
        "    def area(self):\n",
        "        return math.pi * self.radius ** 2\n",
        "\n",
        "class Rectangle(Shape):\n",
        "    def __init__(self, width, height):\n",
        "        self.width = width\n",
        "        self.height = height\n",
        "\n",
        "    def area(self):\n",
        "        return self.width * self.height\n",
        "\n",
        "def print_area(shape):\n",
        "    print(f\"The area of the shape is: {shape.area()}\")\n",
        "\n",
        "# Example usage\n",
        "circle = Circle(5)\n",
        "print_area(circle)\n",
        "\n",
        "rectangle = Rectangle(4, 7)\n",
        "print_area(rectangle)\n"
      ],
      "metadata": {
        "colab": {
          "base_uri": "https://localhost:8080/"
        },
        "id": "HlplIrkreh2I",
        "outputId": "67486b13-c9d6-4849-b533-7f8c773cd1e2"
      },
      "execution_count": 8,
      "outputs": [
        {
          "output_type": "stream",
          "name": "stdout",
          "text": [
            "The area of the shape is: 78.53981633974483\n",
            "The area of the shape is: 28\n"
          ]
        }
      ]
    },
    {
      "cell_type": "markdown",
      "source": [
        "10 - Implement encapsulation in a `BankAccount` class with private attributes for `balance` and `account_number`. Include methods for deposit, withdrawal, and balance inquiry.\n",
        "\n",
        "Answer - A BankAccount class that I built has private attributes for account_number and balance. It offers ways to check your balance, make a deposit, and withdraw money."
      ],
      "metadata": {
        "id": "Gz04SU-Ies4I"
      }
    },
    {
      "cell_type": "code",
      "source": [
        "class BankAccount:\n",
        "    def __init__(self, account_number, initial_balance=0):\n",
        "        self.__account_number = account_number\n",
        "        self.__balance = initial_balance\n",
        "\n",
        "    def deposit(self, amount):\n",
        "        if amount > 0:\n",
        "            self.__balance += amount\n",
        "            print(f\"Deposited ${amount:.2f}. New balance: ${self.__balance:.2f}\")\n",
        "        else:\n",
        "            print(\"Deposit amount must be positive.\")\n",
        "\n",
        "    def withdraw(self, amount):\n",
        "        if 0 < amount <= self.__balance:\n",
        "            self.__balance -= amount\n",
        "            print(f\"Withdrew ${amount:.2f}. New balance: ${self.__balance:.2f}\")\n",
        "        else:\n",
        "            print(\"Invalid withdrawal amount or insufficient balance.\")\n",
        "\n",
        "    def get_balance(self):\n",
        "        print(f\"Current balance: ${self.__balance:.2f}\")\n",
        "        return self.__balance\n",
        "\n",
        "# Example usage\n",
        "account = BankAccount(\"123456789\", 100)\n",
        "account.deposit(50)\n",
        "account.withdraw(30)\n",
        "account.get_balance()\n"
      ],
      "metadata": {
        "colab": {
          "base_uri": "https://localhost:8080/"
        },
        "id": "q76AFADQfG7w",
        "outputId": "42ebc9cb-7db9-4d5e-b91d-905ebcdc9fe2"
      },
      "execution_count": 17,
      "outputs": [
        {
          "output_type": "stream",
          "name": "stdout",
          "text": [
            "Deposited $50.00. New balance: $150.00\n",
            "Withdrew $30.00. New balance: $120.00\n",
            "Current balance: $120.00\n"
          ]
        },
        {
          "output_type": "execute_result",
          "data": {
            "text/plain": [
              "120"
            ]
          },
          "metadata": {},
          "execution_count": 17
        }
      ]
    },
    {
      "cell_type": "markdown",
      "source": [
        "11 - Write a class that overrides the `__str__` and `__add__` magic methods. What will these methods allow you to do?\n",
        "\n",
        "Answer - The __str__ and __add__ magic methods are overridden by the CustomNumber class, which I added.\n",
        "\n",
        "A custom string representation can be used when the object is printed thanks to __str__.\n",
        "__add__ makes it possible to add two CustomNumber objects using the + operator, creating a new CustomNumber instance in the process.\n"
      ],
      "metadata": {
        "id": "gEG2edf8fXq4"
      }
    },
    {
      "cell_type": "code",
      "source": [
        "class CustomNumber:\n",
        "    def __init__(self, value):\n",
        "        self.value = value\n",
        "\n",
        "    def __str__(self):\n",
        "        return f\"CustomNumber(value={self.value})\"\n",
        "\n",
        "    def __add__(self, other):\n",
        "        if isinstance(other, CustomNumber):\n",
        "            return CustomNumber(self.value + other.value)\n",
        "        return NotImplemented\n",
        "\n",
        "# Example usage\n",
        "num1 = CustomNumber(10)\n",
        "num2 = CustomNumber(20)\n",
        "print(num1)\n",
        "print(num2)\n",
        "result = num1 + num2\n",
        "print(result)\n"
      ],
      "metadata": {
        "colab": {
          "base_uri": "https://localhost:8080/"
        },
        "id": "T2Ct7qVdf2gV",
        "outputId": "0a7591c7-d348-414f-b831-a1b25ae48f84"
      },
      "execution_count": 18,
      "outputs": [
        {
          "output_type": "stream",
          "name": "stdout",
          "text": [
            "CustomNumber(value=10)\n",
            "CustomNumber(value=20)\n",
            "CustomNumber(value=30)\n"
          ]
        }
      ]
    },
    {
      "cell_type": "markdown",
      "source": [
        "12 - Create a decorator that measures and prints the execution time of a function.\n",
        "\n",
        "Answer - I have included an execution_time_decorator that calculates and outputs a function's execution time. To illustrate how it functions, an example usage using example_function is provided."
      ],
      "metadata": {
        "id": "7vDfyTiDgDVk"
      }
    },
    {
      "cell_type": "code",
      "source": [
        "def execution_time_decorator(func):\n",
        "    def wrapper(*args, **kwargs):\n",
        "        start_time = time.time()\n",
        "        result = func(*args, **kwargs)\n",
        "        end_time = time.time()\n",
        "        print(f\"Execution time of {func.__name__}: {end_time - start_time:.4f} seconds\")\n",
        "        return result\n",
        "    return wrapper\n",
        "\n",
        "# Example usage\n",
        "@execution_time_decorator\n",
        "def example_function():\n",
        "    time.sleep(1)\n",
        "    print(\"Function executed.\")\n",
        "\n",
        "example_function()\n"
      ],
      "metadata": {
        "colab": {
          "base_uri": "https://localhost:8080/"
        },
        "id": "Yqa8I0Wsg9UK",
        "outputId": "363cc181-b23a-418b-bb38-afe49d122b2f"
      },
      "execution_count": 19,
      "outputs": [
        {
          "output_type": "stream",
          "name": "stdout",
          "text": [
            "Function executed.\n",
            "Execution time of example_function: 1.0012 seconds\n"
          ]
        }
      ]
    },
    {
      "cell_type": "markdown",
      "source": [
        "13 - Explain the concept of the Diamond Problem in multiple inheritance. How does Python resolve it?\n",
        "\n",
        "Answer - A typical problem in programming languages that allow multiple inheritance is known as the \"Diamond Problem,\" which occurs when a class inherits from two or more classes that share an ancestor. It leaves open the question of which implementation of an attribute or method the subclass should inherit.\n",
        "\n",
        "What occurs when D calls some_method if A creates a method (such as some_method) and B and C both override it? Which implementation—that of B, C, or A—should be used?\n",
        "\n",
        "The Diamond Problem and How Python Solves It\n",
        "To resolve the uncertainty, Python employs the C3 Linearization Algorithm, also known as the Method Resolution Order, or MRO. To prevent duplication or inconsistency, the MRO specifies a rigorous sequence for searching classes for attributes or methods.\n",
        "\n",
        "**Steps Python Takes**:\n",
        "Python computes the MRO for the class hierarchy.\n",
        "It follows this order to determine which method or attribute to use.\n",
        "\n",
        "\n",
        "**Key Point**s:\n",
        "The MRO for D is [D, B, C, A, object].\n",
        "Python looks for some_method starting with D, then B, then C, and finally A.\n",
        "The method in B is used because it appears earlier in the MRO.\n",
        "**Advantages of Python's Approach**\n",
        "Deterministic: The MRO ensures a predictable and consistent order.\n",
        "No Duplication: The same method or attribute from a common ancestor is not called multiple times in the inheritance chain.\n"
      ],
      "metadata": {
        "id": "tjDf81QbhQ_i"
      }
    },
    {
      "cell_type": "markdown",
      "source": [],
      "metadata": {
        "id": "nS0793U6j7gF"
      }
    },
    {
      "cell_type": "code",
      "source": [
        "#here is the diamond inheritance pattern\n",
        "        A\n",
        "       / \\\n",
        "      B   C\n",
        "       \\ /\n",
        "        D\n",
        "#Class A is the top-level parent.\n",
        "#Classes B and C inherit from A.\n",
        "#Class D inherits from both B and C."
      ],
      "metadata": {
        "id": "pcajM-wnjbga"
      },
      "execution_count": null,
      "outputs": []
    },
    {
      "cell_type": "code",
      "source": [
        "#Example of Python's Resolution\n",
        "class A:\n",
        "    def some_method(self):\n",
        "        print(\"A's method\")\n",
        "\n",
        "class B(A):\n",
        "    def some_method(self):\n",
        "        print(\"B's method\")\n",
        "\n",
        "class C(A):\n",
        "    def some_method(self):\n",
        "        print(\"C's method\")\n",
        "\n",
        "class D(B, C):\n",
        "    pass\n",
        "\n",
        "d = D()\n",
        "d.some_method()\n",
        "print(D.mro())\n"
      ],
      "metadata": {
        "colab": {
          "base_uri": "https://localhost:8080/"
        },
        "id": "qdC3bS5IhH-W",
        "outputId": "33cf97d9-adbd-4b59-8ea9-c368c01d785f"
      },
      "execution_count": 14,
      "outputs": [
        {
          "output_type": "stream",
          "name": "stdout",
          "text": [
            "B's method\n",
            "[<class '__main__.D'>, <class '__main__.B'>, <class '__main__.C'>, <class '__main__.A'>, <class 'object'>]\n"
          ]
        }
      ]
    },
    {
      "cell_type": "markdown",
      "source": [
        "14 - Write a class method that keeps track of the number of instances created from a class.\n",
        "\n",
        "Answer - Using the class variable _instance_count, I added an InstanceCounter class to keep track of the quantity of instances generated. The count is obtained using the get_instance_count class function."
      ],
      "metadata": {
        "id": "MjvqIjbukVyG"
      }
    },
    {
      "cell_type": "code",
      "source": [
        "class InstanceCounter:\n",
        "    _instance_count = 0\n",
        "\n",
        "    def __init__(self):\n",
        "        InstanceCounter._instance_count += 1\n",
        "\n",
        "    @classmethod\n",
        "    def get_instance_count(cls):\n",
        "        return cls._instance_count\n",
        "\n",
        "# Example usage\n",
        "obj1 = InstanceCounter()\n",
        "obj2 = InstanceCounter()\n",
        "print(f\"Number of instances created: {InstanceCounter.get_instance_count()}\")\n"
      ],
      "metadata": {
        "colab": {
          "base_uri": "https://localhost:8080/"
        },
        "id": "jN0kwfoZk1wf",
        "outputId": "e00185d0-6970-4618-9b14-717057120fa1"
      },
      "execution_count": 20,
      "outputs": [
        {
          "output_type": "stream",
          "name": "stdout",
          "text": [
            "Number of instances created: 2\n"
          ]
        }
      ]
    },
    {
      "cell_type": "markdown",
      "source": [
        "15 - . Implement a static method in a class that checks if a given year is a leap year.\n",
        "\n",
        "Answer - To determine whether a given year is a leap year, I've introduced a Year class with the static method is_leap_year. The script concludes with an example of usage."
      ],
      "metadata": {
        "id": "Yj8NSWuTlWAT"
      }
    },
    {
      "cell_type": "code",
      "source": [
        "class Year:\n",
        "    @staticmethod\n",
        "    def is_leap_year(year):\n",
        "        if (year % 4 == 0 and year % 100 != 0) or (year % 400 == 0):\n",
        "            return True\n",
        "        return False\n",
        "\n",
        "# Example usage\n",
        "print(f\"2024 is a leap year: {Year.is_leap_year(2024)}\")\n",
        "print(f\"2023 is a leap year: {Year.is_leap_year(2023)}\")\n"
      ],
      "metadata": {
        "colab": {
          "base_uri": "https://localhost:8080/"
        },
        "id": "MgiuEogGk501",
        "outputId": "fd196a44-537e-4bb7-b873-c4a5ce24e940"
      },
      "execution_count": 21,
      "outputs": [
        {
          "output_type": "stream",
          "name": "stdout",
          "text": [
            "2024 is a leap year: True\n",
            "2023 is a leap year: False\n"
          ]
        }
      ]
    },
    {
      "cell_type": "code",
      "source": [],
      "metadata": {
        "id": "cEavvHVHluFH"
      },
      "execution_count": null,
      "outputs": []
    }
  ]
}