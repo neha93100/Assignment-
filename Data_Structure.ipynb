{
  "nbformat": 4,
  "nbformat_minor": 0,
  "metadata": {
    "colab": {
      "provenance": []
    },
    "kernelspec": {
      "name": "python3",
      "display_name": "Python 3"
    },
    "language_info": {
      "name": "python"
    }
  },
  "cells": [
    {
      "cell_type": "code",
      "execution_count": null,
      "metadata": {
        "id": "HhSHT4sMHdOC"
      },
      "outputs": [],
      "source": []
    },
    {
      "cell_type": "markdown",
      "source": [
        "1 - Discuss string slicing and provide example.\n",
        "\n",
        "String Slicing - In Python, string slicing is a technique that uses start, end, and step variables to extract particular segments of a string. It is particularly helpful for data parsing and text manipulation.\n",
        "\n",
        "> Add blockquote\n",
        "\n"
      ],
      "metadata": {
        "id": "PdueLlHpJSGz"
      }
    },
    {
      "cell_type": "code",
      "source": [
        "#example of string slicing\n",
        "Intro = \"Hello Neha!\"\n",
        "A = (Intro[0:5])\n",
        "A"
      ],
      "metadata": {
        "colab": {
          "base_uri": "https://localhost:8080/",
          "height": 36
        },
        "id": "AsTVEsenKBsC",
        "outputId": "ec29dd54-d857-4af9-8ecb-402b2f854fbd"
      },
      "execution_count": null,
      "outputs": [
        {
          "output_type": "execute_result",
          "data": {
            "text/plain": [
              "'Hello'"
            ],
            "application/vnd.google.colaboratory.intrinsic+json": {
              "type": "string"
            }
          },
          "metadata": {},
          "execution_count": 4
        }
      ]
    },
    {
      "cell_type": "code",
      "source": [
        "# syntax of String slicing>>>>>>>[start : end : step]\n"
      ],
      "metadata": {
        "id": "4ZqDKXsGKd0I"
      },
      "execution_count": null,
      "outputs": []
    },
    {
      "cell_type": "markdown",
      "source": [
        "2 - Explain the key features of list in python.\n",
        "\n",
        "list - An ordered collection of items can be stored in a list, a built-in data structure in Python. Lists can have their contents altered after they have been constructed because they are mutable. Numerous data kinds, such as texts, floats, integers, and even other lists, can be stored in them.\n",
        "\n",
        "# list is heterogenous it can store anything."
      ],
      "metadata": {
        "id": "5a1tDe7LMTDx"
      }
    },
    {
      "cell_type": "code",
      "source": [
        "#example for key features of list\n",
        "playlist = []\n",
        "playlist.append(\"blue eyes\")\n",
        "playlist.append(\"bad guy\")"
      ],
      "metadata": {
        "id": "7A0aGHqxOBkA"
      },
      "execution_count": null,
      "outputs": []
    },
    {
      "cell_type": "code",
      "source": [
        "playlist"
      ],
      "metadata": {
        "colab": {
          "base_uri": "https://localhost:8080/"
        },
        "id": "BDxCaL9mOjrH",
        "outputId": "05e6fd34-5875-4ed6-b608-40985ae3b648"
      },
      "execution_count": null,
      "outputs": [
        {
          "output_type": "execute_result",
          "data": {
            "text/plain": [
              "['blue eyes', 'bad guy']"
            ]
          },
          "metadata": {},
          "execution_count": 6
        }
      ]
    },
    {
      "cell_type": "code",
      "source": [
        "playlist[0]= \"ocean eyes\"\n",
        "playlist"
      ],
      "metadata": {
        "colab": {
          "base_uri": "https://localhost:8080/"
        },
        "id": "_RcaMDPEOl0m",
        "outputId": "1f7d5327-92bc-4990-cbcb-8b75cf432f5d"
      },
      "execution_count": null,
      "outputs": [
        {
          "output_type": "execute_result",
          "data": {
            "text/plain": [
              "['ocean eyes', 'bad guy']"
            ]
          },
          "metadata": {},
          "execution_count": 8
        }
      ]
    },
    {
      "cell_type": "code",
      "source": [
        "#hence list is mutable"
      ],
      "metadata": {
        "id": "Ma-a-yHEOwaQ"
      },
      "execution_count": null,
      "outputs": []
    },
    {
      "cell_type": "markdown",
      "source": [
        "3 - describe how we can access,modify, and delete elements in a list with examples.\n",
        "\n",
        "Accessing the elements in list\n",
        "\n",
        "Indexing allows you to access the elements in a list. While negative indexing enables us to access entries from the end of the list, Python indexes begin at 0, thus a[0] will access the first entry.\n"
      ],
      "metadata": {
        "id": "SSOXjet2Pjv3"
      }
    },
    {
      "cell_type": "code",
      "source": [
        "#example\n",
        "a= [1,2,3,4,5,6]\n",
        "#accessing the first element\n",
        "print(a[0])"
      ],
      "metadata": {
        "colab": {
          "base_uri": "https://localhost:8080/"
        },
        "id": "lLJ-PodkQpFw",
        "outputId": "ac89af0a-0bba-4766-ac5c-03144a3734fb"
      },
      "execution_count": null,
      "outputs": [
        {
          "output_type": "stream",
          "name": "stdout",
          "text": [
            "1\n"
          ]
        }
      ]
    },
    {
      "cell_type": "code",
      "source": [
        "#accessing the last element\n",
        "print(a[-1])"
      ],
      "metadata": {
        "colab": {
          "base_uri": "https://localhost:8080/"
        },
        "id": "7zacR5mNRExM",
        "outputId": "dd6f29dc-9088-40d0-90df-5a7087a0c3b1"
      },
      "execution_count": null,
      "outputs": [
        {
          "output_type": "stream",
          "name": "stdout",
          "text": [
            "6\n"
          ]
        }
      ]
    },
    {
      "cell_type": "code",
      "source": [
        "a[0]=7\n",
        "a"
      ],
      "metadata": {
        "colab": {
          "base_uri": "https://localhost:8080/"
        },
        "id": "f1bO0cV7W1-C",
        "outputId": "c23ec54d-38bd-44f2-b3c9-9c322ab25dbf"
      },
      "execution_count": null,
      "outputs": [
        {
          "output_type": "execute_result",
          "data": {
            "text/plain": [
              "[7, 2, 3, 4, 5, 6]"
            ]
          },
          "metadata": {},
          "execution_count": 14
        }
      ]
    },
    {
      "cell_type": "code",
      "source": [
        "#8 Ways to Modify a Python List\n",
        "Index method>>>>> please refer to the above example\n",
        "Count method\n",
        "Sort method\n",
        "Append method>>>>>>>>>>......please refer to the above example\n",
        "Clear method\n",
        "Copy method\n",
        "Remove method\n",
        "Pop method\n",
        "Extend method\n",
        "Insert method"
      ],
      "metadata": {
        "id": "CedxtAegRiwY"
      },
      "execution_count": null,
      "outputs": []
    },
    {
      "cell_type": "code",
      "source": [
        "#Count method\n",
        "a.count(2)"
      ],
      "metadata": {
        "colab": {
          "base_uri": "https://localhost:8080/"
        },
        "id": "E_eMJdYcXYDF",
        "outputId": "4cf51851-5ec3-441a-e18d-0518201b535b"
      },
      "execution_count": null,
      "outputs": [
        {
          "output_type": "execute_result",
          "data": {
            "text/plain": [
              "1"
            ]
          },
          "metadata": {},
          "execution_count": 15
        }
      ]
    },
    {
      "cell_type": "code",
      "source": [
        "#sort method\n",
        "a.sort()\n",
        "a"
      ],
      "metadata": {
        "colab": {
          "base_uri": "https://localhost:8080/"
        },
        "id": "CNTOITOYXc3I",
        "outputId": "4a18888c-e6e7-4b53-ee2a-ca7237fe598f"
      },
      "execution_count": null,
      "outputs": [
        {
          "output_type": "execute_result",
          "data": {
            "text/plain": [
              "[2, 3, 4, 5, 6, 7]"
            ]
          },
          "metadata": {},
          "execution_count": 16
        }
      ]
    },
    {
      "cell_type": "code",
      "source": [
        "#insert method\n",
        "a.insert(7,8)\n",
        "a"
      ],
      "metadata": {
        "colab": {
          "base_uri": "https://localhost:8080/"
        },
        "id": "qwldrCUSXiDR",
        "outputId": "9d268c21-f41f-4192-8805-b9e49ad52452"
      },
      "execution_count": null,
      "outputs": [
        {
          "output_type": "execute_result",
          "data": {
            "text/plain": [
              "[2, 3, 8, 4, 5, 6, 7, 8]"
            ]
          },
          "metadata": {},
          "execution_count": 18
        }
      ]
    },
    {
      "cell_type": "code",
      "source": [
        "#extend method\n",
        "a.extend([9,10])\n",
        "a"
      ],
      "metadata": {
        "colab": {
          "base_uri": "https://localhost:8080/"
        },
        "id": "NK--010tXu4r",
        "outputId": "32115781-b084-445d-fbee-7dbbdd222584"
      },
      "execution_count": null,
      "outputs": [
        {
          "output_type": "execute_result",
          "data": {
            "text/plain": [
              "[2, 3, 8, 4, 5, 6, 7, 8, 9, 10]"
            ]
          },
          "metadata": {},
          "execution_count": 19
        }
      ]
    },
    {
      "cell_type": "code",
      "source": [
        "#copy method\n",
        "b=a.copy()\n",
        "b"
      ],
      "metadata": {
        "colab": {
          "base_uri": "https://localhost:8080/"
        },
        "id": "ZSa6eKziX4Ei",
        "outputId": "17b31b68-b586-4f6b-903d-4b70cdbb94a8"
      },
      "execution_count": null,
      "outputs": [
        {
          "output_type": "execute_result",
          "data": {
            "text/plain": [
              "[2, 3, 8, 4, 5, 6, 7, 8, 9, 10]"
            ]
          },
          "metadata": {},
          "execution_count": 20
        }
      ]
    },
    {
      "cell_type": "code",
      "source": [
        "#clear method\n",
        "b.clear()\n",
        "b"
      ],
      "metadata": {
        "colab": {
          "base_uri": "https://localhost:8080/"
        },
        "id": "cipg7aU1YAyS",
        "outputId": "1ae133d7-3eb0-4e81-8039-e73f7910f05e"
      },
      "execution_count": null,
      "outputs": [
        {
          "output_type": "execute_result",
          "data": {
            "text/plain": [
              "[]"
            ]
          },
          "metadata": {},
          "execution_count": 21
        }
      ]
    },
    {
      "cell_type": "code",
      "source": [
        "#pop method\n",
        "a.pop(5)\n",
        "a"
      ],
      "metadata": {
        "colab": {
          "base_uri": "https://localhost:8080/"
        },
        "id": "-qT7iHlUYJrN",
        "outputId": "99aee979-a5a0-400d-f56a-8f189afc7f7c"
      },
      "execution_count": null,
      "outputs": [
        {
          "output_type": "execute_result",
          "data": {
            "text/plain": [
              "[2, 3, 8, 4, 5, 8, 9]"
            ]
          },
          "metadata": {},
          "execution_count": 25
        }
      ]
    },
    {
      "cell_type": "code",
      "source": [
        "#remove method\n",
        "a.remove(3)\n",
        "a"
      ],
      "metadata": {
        "colab": {
          "base_uri": "https://localhost:8080/"
        },
        "id": "GwgLgYt6YOlt",
        "outputId": "275775f5-19ed-42af-9bdf-7af06cb65ef3"
      },
      "execution_count": null,
      "outputs": [
        {
          "output_type": "execute_result",
          "data": {
            "text/plain": [
              "[2, 4, 5, 8, 9]"
            ]
          },
          "metadata": {},
          "execution_count": 28
        }
      ]
    },
    {
      "cell_type": "code",
      "source": [
        "del a"
      ],
      "metadata": {
        "id": "SsbTIb71YZp5"
      },
      "execution_count": null,
      "outputs": []
    },
    {
      "cell_type": "code",
      "source": [
        "a"
      ],
      "metadata": {
        "colab": {
          "base_uri": "https://localhost:8080/",
          "height": 141
        },
        "id": "zCCkQ4j_Y25Q",
        "outputId": "4fad6f12-04a7-4b84-e181-7e1f9b05735a"
      },
      "execution_count": null,
      "outputs": [
        {
          "output_type": "error",
          "ename": "NameError",
          "evalue": "name 'a' is not defined",
          "traceback": [
            "\u001b[0;31m---------------------------------------------------------------------------\u001b[0m",
            "\u001b[0;31mNameError\u001b[0m                                 Traceback (most recent call last)",
            "\u001b[0;32m<ipython-input-33-3f786850e387>\u001b[0m in \u001b[0;36m<cell line: 1>\u001b[0;34m()\u001b[0m\n\u001b[0;32m----> 1\u001b[0;31m \u001b[0ma\u001b[0m\u001b[0;34m\u001b[0m\u001b[0;34m\u001b[0m\u001b[0m\n\u001b[0m",
            "\u001b[0;31mNameError\u001b[0m: name 'a' is not defined"
          ]
        }
      ]
    },
    {
      "cell_type": "code",
      "source": [
        "#hence a (list) is completely deleted\n"
      ],
      "metadata": {
        "id": "mG4nzQv0ZefP"
      },
      "execution_count": null,
      "outputs": []
    },
    {
      "cell_type": "markdown",
      "source": [
        "4 - Compare and contrast tuples and list with example.\n",
        "\n",
        "\n",
        "List -\n",
        "\n",
        "1\tLists are mutable\n",
        "2\tThe implication of iterations is Time-consuming\n",
        "3\tThe list is better for performing operations, such as insertion and deletion.\n",
        "4 Unexpected changes and errors are more likely to occur.\n",
        "5 Lists consume more memory.\n",
        "6 Lists have several built-in methods\n",
        "\n",
        "\n",
        "\n",
        "Tuples\n",
        "\n",
        "1 Tuples are immutable\n",
        "2 The implication of iterations is comparatively Faster\n",
        "3 A Tuple data type is appropriate for accessing the elements\n",
        "4 Because tuples don’t change they are far less error-prone.\n",
        "5 Tuple consumes less memory as compared to the list\n",
        "6 Tuple does not have many built-in methods."
      ],
      "metadata": {
        "id": "4HtprssZbjrU"
      }
    },
    {
      "cell_type": "code",
      "source": [
        "#example\n",
        "#mutability test\n",
        "list1 = [1,2,3,4,5]\n",
        "tuple1 = (1,2,3,4,5)\n",
        "list1[0] = 6\n",
        "list1\n"
      ],
      "metadata": {
        "colab": {
          "base_uri": "https://localhost:8080/"
        },
        "id": "5NT_ICLhfdtV",
        "outputId": "fb050862-b94f-445f-ab3e-07ea1b9816da"
      },
      "execution_count": 34,
      "outputs": [
        {
          "output_type": "execute_result",
          "data": {
            "text/plain": [
              "[6, 2, 3, 4, 5]"
            ]
          },
          "metadata": {},
          "execution_count": 34
        }
      ]
    },
    {
      "cell_type": "code",
      "source": [
        "tuple1[0] = 6 #hence tuples are immutable and list is mutable\n",
        "tuple1"
      ],
      "metadata": {
        "colab": {
          "base_uri": "https://localhost:8080/",
          "height": 158
        },
        "id": "92iAUrqTlVSZ",
        "outputId": "65b793c1-2929-46ef-8387-c859ecf475f2"
      },
      "execution_count": 35,
      "outputs": [
        {
          "output_type": "error",
          "ename": "TypeError",
          "evalue": "'tuple' object does not support item assignment",
          "traceback": [
            "\u001b[0;31m---------------------------------------------------------------------------\u001b[0m",
            "\u001b[0;31mTypeError\u001b[0m                                 Traceback (most recent call last)",
            "\u001b[0;32m<ipython-input-35-c2e979da2163>\u001b[0m in \u001b[0;36m<cell line: 1>\u001b[0;34m()\u001b[0m\n\u001b[0;32m----> 1\u001b[0;31m \u001b[0mtuple1\u001b[0m\u001b[0;34m[\u001b[0m\u001b[0;36m0\u001b[0m\u001b[0;34m]\u001b[0m \u001b[0;34m=\u001b[0m \u001b[0;36m6\u001b[0m\u001b[0;34m\u001b[0m\u001b[0;34m\u001b[0m\u001b[0m\n\u001b[0m\u001b[1;32m      2\u001b[0m \u001b[0mtuple1\u001b[0m\u001b[0;34m\u001b[0m\u001b[0;34m\u001b[0m\u001b[0m\n",
            "\u001b[0;31mTypeError\u001b[0m: 'tuple' object does not support item assignment"
          ]
        }
      ]
    },
    {
      "cell_type": "code",
      "source": [
        "#slicing\n",
        "my_list = [1,2,3,4,5,6,7,8,9,10]\n",
        "my_list[0:5]"
      ],
      "metadata": {
        "colab": {
          "base_uri": "https://localhost:8080/"
        },
        "id": "QdxCpObRlaRN",
        "outputId": "901a8735-f130-405b-8e4d-c065f0696ce8"
      },
      "execution_count": 36,
      "outputs": [
        {
          "output_type": "execute_result",
          "data": {
            "text/plain": [
              "[1, 2, 3, 4, 5]"
            ]
          },
          "metadata": {},
          "execution_count": 36
        }
      ]
    },
    {
      "cell_type": "code",
      "source": [
        "my_tuple = (1,2,3,4,5,6,7,8,9,10)\n",
        "my_tuple[0:5]"
      ],
      "metadata": {
        "colab": {
          "base_uri": "https://localhost:8080/"
        },
        "id": "tXyVIp7luUu5",
        "outputId": "79965483-a5b2-4b27-ad22-5bdbc7eca041"
      },
      "execution_count": 37,
      "outputs": [
        {
          "output_type": "execute_result",
          "data": {
            "text/plain": [
              "(1, 2, 3, 4, 5)"
            ]
          },
          "metadata": {},
          "execution_count": 37
        }
      ]
    },
    {
      "cell_type": "code",
      "source": [
        "#concentation\n",
        "list1 = [1,2,3,5,6]\n",
        "list2 = [4,5,6,7,8]\n",
        "list1 + list2"
      ],
      "metadata": {
        "colab": {
          "base_uri": "https://localhost:8080/"
        },
        "id": "moPDkXCPuYrT",
        "outputId": "e1dab102-903e-41bc-c0e7-16ae73c212fe"
      },
      "execution_count": 40,
      "outputs": [
        {
          "output_type": "execute_result",
          "data": {
            "text/plain": [
              "[1, 2, 3, 5, 6, 4, 5, 6, 7, 8]"
            ]
          },
          "metadata": {},
          "execution_count": 40
        }
      ]
    },
    {
      "cell_type": "code",
      "source": [
        "t1 = (1,2,3,4,5,6)\n",
        "t2 = (7,8,9,5,6,3)\n",
        "t1+t2"
      ],
      "metadata": {
        "colab": {
          "base_uri": "https://localhost:8080/"
        },
        "id": "qZoLT5pquwYq",
        "outputId": "13d1fd67-3f7b-4d56-d122-4376512eba8d"
      },
      "execution_count": 41,
      "outputs": [
        {
          "output_type": "execute_result",
          "data": {
            "text/plain": [
              "(1, 2, 3, 4, 5, 6, 7, 8, 9, 5, 6, 3)"
            ]
          },
          "metadata": {},
          "execution_count": 41
        }
      ]
    },
    {
      "cell_type": "code",
      "source": [],
      "metadata": {
        "id": "ZUuMt5KfvIOV"
      },
      "execution_count": null,
      "outputs": []
    },
    {
      "cell_type": "markdown",
      "source": [
        "5 - Describe the key features of sets and provide examples of their use.\n",
        "\n",
        "sets - sets are unordered and unique collection of elements.It doesn't allow duplicate elements.\n",
        "indexing will not work, because its unordered.sets are unchangeable.\n",
        "Symbol - {}\n",
        "\n",
        "\n"
      ],
      "metadata": {
        "id": "dOfe7Zh0vRCu"
      }
    },
    {
      "cell_type": "code",
      "source": [
        "#example of set\n",
        "\n",
        "set1 = {1,2,3,4,5,6}\n",
        "set1"
      ],
      "metadata": {
        "colab": {
          "base_uri": "https://localhost:8080/"
        },
        "id": "Y01qS0brvOPw",
        "outputId": "4f0e20b9-9ea2-4416-dc08-aa866c3c3746"
      },
      "execution_count": 42,
      "outputs": [
        {
          "output_type": "execute_result",
          "data": {
            "text/plain": [
              "{1, 2, 3, 4, 5, 6}"
            ]
          },
          "metadata": {},
          "execution_count": 42
        }
      ]
    },
    {
      "cell_type": "code",
      "source": [
        "set1.add(\"mango\")\n",
        "#example of adding elements in set\n",
        "set1"
      ],
      "metadata": {
        "colab": {
          "base_uri": "https://localhost:8080/"
        },
        "id": "DfAdLuFBxYZZ",
        "outputId": "e4f30080-22b6-4de0-c7dd-3dc823eeed79"
      },
      "execution_count": 46,
      "outputs": [
        {
          "output_type": "execute_result",
          "data": {
            "text/plain": [
              "{1, 2, 3, 4, 5, 6, 'mango'}"
            ]
          },
          "metadata": {},
          "execution_count": 46
        }
      ]
    },
    {
      "cell_type": "code",
      "source": [
        "#update method\n",
        "set1.update([\"orange\",\"apple\"])\n",
        "set1"
      ],
      "metadata": {
        "colab": {
          "base_uri": "https://localhost:8080/"
        },
        "id": "1HfcJEK-xpok",
        "outputId": "066e6adc-bd64-4f82-b38e-1d0dda3068b6"
      },
      "execution_count": 47,
      "outputs": [
        {
          "output_type": "execute_result",
          "data": {
            "text/plain": [
              "{1, 2, 3, 4, 5, 6, 'apple', 'mango', 'orange'}"
            ]
          },
          "metadata": {},
          "execution_count": 47
        }
      ]
    },
    {
      "cell_type": "code",
      "source": [
        "#remove method\n",
        "set1.remove(\"orange\")\n",
        "set1"
      ],
      "metadata": {
        "colab": {
          "base_uri": "https://localhost:8080/"
        },
        "id": "UXsWkOxQyf34",
        "outputId": "1066ad44-50a0-49d6-efe1-af47b8088c72"
      },
      "execution_count": 48,
      "outputs": [
        {
          "output_type": "execute_result",
          "data": {
            "text/plain": [
              "{1, 2, 3, 4, 5, 6, 'apple', 'mango'}"
            ]
          },
          "metadata": {},
          "execution_count": 48
        }
      ]
    },
    {
      "cell_type": "code",
      "source": [
        "#discard method>>>>>>>>>>>>>>>> it does not show any error if the element is not present in set\n",
        "set1.discard(\"banana\")\n",
        "set1"
      ],
      "metadata": {
        "colab": {
          "base_uri": "https://localhost:8080/"
        },
        "id": "XvbFNpRJyqna",
        "outputId": "c7e04cca-e67e-4b5e-b3a5-a0e82a6e0d60"
      },
      "execution_count": 50,
      "outputs": [
        {
          "output_type": "execute_result",
          "data": {
            "text/plain": [
              "{1, 2, 3, 4, 5, 6, 'mango'}"
            ]
          },
          "metadata": {},
          "execution_count": 50
        }
      ]
    },
    {
      "cell_type": "code",
      "source": [
        "#pop method\n",
        "set1.pop()\n",
        "set1"
      ],
      "metadata": {
        "colab": {
          "base_uri": "https://localhost:8080/"
        },
        "id": "D5c5WjRJyw_0",
        "outputId": "45b28c13-bb17-4288-e296-97e556002f43"
      },
      "execution_count": 54,
      "outputs": [
        {
          "output_type": "execute_result",
          "data": {
            "text/plain": [
              "{3, 4, 5, 6, 'mango'}"
            ]
          },
          "metadata": {},
          "execution_count": 54
        }
      ]
    },
    {
      "cell_type": "code",
      "source": [
        "#clear method\n",
        "set1.clear()\n",
        "set1"
      ],
      "metadata": {
        "colab": {
          "base_uri": "https://localhost:8080/"
        },
        "id": "rlbGtObrzMne",
        "outputId": "98a6b815-6eea-443a-b544-30dbdb9dd0bf"
      },
      "execution_count": 55,
      "outputs": [
        {
          "output_type": "execute_result",
          "data": {
            "text/plain": [
              "set()"
            ]
          },
          "metadata": {},
          "execution_count": 55
        }
      ]
    },
    {
      "cell_type": "code",
      "source": [
        "#set operation\n",
        "set1 = {1,2,3,4,5,6}\n",
        "set2 = {4,5,6,7,8,9}\n",
        "\n",
        "#union operation\n",
        "set1.union(set2)"
      ],
      "metadata": {
        "colab": {
          "base_uri": "https://localhost:8080/"
        },
        "id": "mvy4Nmc2zpbv",
        "outputId": "1a956768-e023-4442-d68e-d3f8f5c54ddf"
      },
      "execution_count": 58,
      "outputs": [
        {
          "output_type": "execute_result",
          "data": {
            "text/plain": [
              "{1, 2, 3, 4, 5, 6, 7, 8, 9}"
            ]
          },
          "metadata": {},
          "execution_count": 58
        }
      ]
    },
    {
      "cell_type": "code",
      "source": [
        "#intersection operation\n",
        "set1.intersection(set2)"
      ],
      "metadata": {
        "colab": {
          "base_uri": "https://localhost:8080/"
        },
        "id": "cZ8KRENc0FQK",
        "outputId": "21a6da00-7fe5-4b1c-cd29-ee91523ee62d"
      },
      "execution_count": 57,
      "outputs": [
        {
          "output_type": "execute_result",
          "data": {
            "text/plain": [
              "{4, 5, 6}"
            ]
          },
          "metadata": {},
          "execution_count": 57
        }
      ]
    },
    {
      "cell_type": "code",
      "source": [
        "#difference operation\n",
        "set1.difference(set2)"
      ],
      "metadata": {
        "colab": {
          "base_uri": "https://localhost:8080/"
        },
        "id": "NUTusYiw0OWd",
        "outputId": "0e429703-fcff-49fc-f78c-1e007f116f04"
      },
      "execution_count": 59,
      "outputs": [
        {
          "output_type": "execute_result",
          "data": {
            "text/plain": [
              "{1, 2, 3}"
            ]
          },
          "metadata": {},
          "execution_count": 59
        }
      ]
    },
    {
      "cell_type": "code",
      "source": [
        "#symmetric difference\n",
        "set1.symmetric_difference(set2)"
      ],
      "metadata": {
        "colab": {
          "base_uri": "https://localhost:8080/"
        },
        "id": "_tDhDv4g1AJ5",
        "outputId": "365c1458-0f1f-4864-ae76-cae241503907"
      },
      "execution_count": 60,
      "outputs": [
        {
          "output_type": "execute_result",
          "data": {
            "text/plain": [
              "{1, 2, 3, 7, 8, 9}"
            ]
          },
          "metadata": {},
          "execution_count": 60
        }
      ]
    },
    {
      "cell_type": "code",
      "source": [],
      "metadata": {
        "id": "iRN8Azcc1GPT"
      },
      "execution_count": null,
      "outputs": []
    },
    {
      "cell_type": "markdown",
      "source": [
        "6 - Discuss the use cases of tuples and sets in Python programming.\n",
        "\n",
        "tuples use case - Once generated, tuples cannot be altered since they are immutable. They are therefore perfect for keeping information that shouldn't be changed, like  database records\n",
        "\n",
        "\n",
        "Sets - To prevent duplicates of the elements in the set, a set can be used to hold unique values. Because the elements in a set are arranged in a sorted form, it is easy to determine whether or not an element is part of the set. Since the set is dynamic, there is no chance of it overflowing.\n",
        "therefore its perfect for records like employee records.\n",
        "\n"
      ],
      "metadata": {
        "id": "1V8NdAD-1MsX"
      }
    },
    {
      "cell_type": "markdown",
      "source": [
        "7 - Describe how to add, modify, and delete items in a dictionary with examples.\n",
        "\n",
        "Dictionery - is a data structure that stores data as key value pair.\n",
        "keys are unique and immutable & are unordered. but from python 3.7 version, dictionaries retain the order of insertion.\n",
        "this means that if you iterate over a dictionary, the times will be returned in the order they were added.\n",
        "you can only access value using key, vice versa not possible.\n"
      ],
      "metadata": {
        "id": "9sRZfYgh32BR"
      }
    },
    {
      "cell_type": "code",
      "source": [
        "#example of dictionary\n",
        "my_dict = {\n",
        "  \"brand\": \"Gucchi\",\n",
        "  \"catg\": \"Bottoms\",\n",
        "  \"Color\": \"Red\"}\n",
        "my_dict\n"
      ],
      "metadata": {
        "colab": {
          "base_uri": "https://localhost:8080/"
        },
        "id": "qG3jxxy74CP5",
        "outputId": "74b80303-8cde-4d22-8212-7756604f0282"
      },
      "execution_count": 63,
      "outputs": [
        {
          "output_type": "execute_result",
          "data": {
            "text/plain": [
              "{'brand': 'Gucchi', 'catg': 'Bottoms', 'Color': 'Red'}"
            ]
          },
          "metadata": {},
          "execution_count": 63
        }
      ]
    },
    {
      "cell_type": "code",
      "source": [
        "#Add example\n",
        "my_dict[\"size\"] = \"small\"\n",
        "my_dict"
      ],
      "metadata": {
        "colab": {
          "base_uri": "https://localhost:8080/"
        },
        "id": "a74_dKut5lMb",
        "outputId": "5112b2e5-e63b-4e87-9aa8-1ea18159a1b4"
      },
      "execution_count": 64,
      "outputs": [
        {
          "output_type": "execute_result",
          "data": {
            "text/plain": [
              "{'brand': 'Gucchi', 'catg': 'Bottoms', 'Color': 'Red', 'size': 'small'}"
            ]
          },
          "metadata": {},
          "execution_count": 64
        }
      ]
    },
    {
      "cell_type": "code",
      "source": [
        "#update example\n",
        "my_dict.update({\"size\":\"medium\"})\n",
        "my_dict"
      ],
      "metadata": {
        "colab": {
          "base_uri": "https://localhost:8080/"
        },
        "id": "sN-Qh2z554Zn",
        "outputId": "5208fe76-7137-4acd-cc7c-7c15c798d755"
      },
      "execution_count": 65,
      "outputs": [
        {
          "output_type": "execute_result",
          "data": {
            "text/plain": [
              "{'brand': 'Gucchi', 'catg': 'Bottoms', 'Color': 'Red', 'size': 'medium'}"
            ]
          },
          "metadata": {},
          "execution_count": 65
        }
      ]
    },
    {
      "cell_type": "code",
      "source": [
        "#modify example\n",
        "my_dict[\"size\"] = \"large\"\n",
        "my_dict"
      ],
      "metadata": {
        "colab": {
          "base_uri": "https://localhost:8080/"
        },
        "id": "DNYw-U5Z6A0B",
        "outputId": "872c5494-7a03-4a7e-e003-c6f6e466ce23"
      },
      "execution_count": 66,
      "outputs": [
        {
          "output_type": "execute_result",
          "data": {
            "text/plain": [
              "{'brand': 'Gucchi', 'catg': 'Bottoms', 'Color': 'Red', 'size': 'large'}"
            ]
          },
          "metadata": {},
          "execution_count": 66
        }
      ]
    },
    {
      "cell_type": "code",
      "source": [
        "#pop example\n",
        "my_dict.pop(\"size\")\n",
        "my_dict\n"
      ],
      "metadata": {
        "colab": {
          "base_uri": "https://localhost:8080/"
        },
        "id": "PSmoypGn6JW-",
        "outputId": "cc8e7ae6-5f86-4d6c-befa-73b68af222e6"
      },
      "execution_count": 67,
      "outputs": [
        {
          "output_type": "execute_result",
          "data": {
            "text/plain": [
              "{'brand': 'Gucchi', 'catg': 'Bottoms', 'Color': 'Red'}"
            ]
          },
          "metadata": {},
          "execution_count": 67
        }
      ]
    },
    {
      "cell_type": "code",
      "source": [
        "#remove example\n",
        "del my_dict[\"Color\"]\n",
        "my_dict"
      ],
      "metadata": {
        "colab": {
          "base_uri": "https://localhost:8080/"
        },
        "id": "eKoFWkpg6ViT",
        "outputId": "54eb4117-8cbc-4c49-f460-c6e04a95e4ea"
      },
      "execution_count": 68,
      "outputs": [
        {
          "output_type": "execute_result",
          "data": {
            "text/plain": [
              "{'brand': 'Gucchi', 'catg': 'Bottoms'}"
            ]
          },
          "metadata": {},
          "execution_count": 68
        }
      ]
    },
    {
      "cell_type": "code",
      "source": [
        "#copy example\n",
        "Brand_dict = my_dict.copy()\n",
        "Brand_dict"
      ],
      "metadata": {
        "colab": {
          "base_uri": "https://localhost:8080/"
        },
        "id": "LzksGI4_6ZP0",
        "outputId": "359cbdc8-90c6-4e26-b2b6-c6eb6db565d8"
      },
      "execution_count": 71,
      "outputs": [
        {
          "output_type": "execute_result",
          "data": {
            "text/plain": [
              "{'brand': 'Gucchi', 'catg': 'Bottoms'}"
            ]
          },
          "metadata": {},
          "execution_count": 71
        }
      ]
    },
    {
      "cell_type": "code",
      "source": [
        "#get example\n",
        "my_dict.get(\"brand\")"
      ],
      "metadata": {
        "colab": {
          "base_uri": "https://localhost:8080/",
          "height": 36
        },
        "id": "ZxcvqHJp69ll",
        "outputId": "d53cc4c8-dc6d-4489-ecb1-f2fc44658dfb"
      },
      "execution_count": 72,
      "outputs": [
        {
          "output_type": "execute_result",
          "data": {
            "text/plain": [
              "'Gucchi'"
            ],
            "application/vnd.google.colaboratory.intrinsic+json": {
              "type": "string"
            }
          },
          "metadata": {},
          "execution_count": 72
        }
      ]
    },
    {
      "cell_type": "code",
      "source": [
        "#clear example\n",
        "my_dict.clear()\n",
        "my_dict"
      ],
      "metadata": {
        "colab": {
          "base_uri": "https://localhost:8080/"
        },
        "id": "TcTGmzns7fau",
        "outputId": "d7484f61-1aaa-4117-d424-f7e856aab8a2"
      },
      "execution_count": 73,
      "outputs": [
        {
          "output_type": "execute_result",
          "data": {
            "text/plain": [
              "{}"
            ]
          },
          "metadata": {},
          "execution_count": 73
        }
      ]
    },
    {
      "cell_type": "code",
      "source": [
        "#fromkeys example\n",
        "keys = {'a', 'e', 'i', 'o', 'u' }\n",
        "value = 'vowel'\n",
        "vowels = dict.fromkeys(keys, value)\n",
        "vowels"
      ],
      "metadata": {
        "colab": {
          "base_uri": "https://localhost:8080/"
        },
        "id": "Pa9bf9YU7uPh",
        "outputId": "aa2f9e41-8af3-4ccf-a61d-35eca839f559"
      },
      "execution_count": 74,
      "outputs": [
        {
          "output_type": "execute_result",
          "data": {
            "text/plain": [
              "{'e': 'vowel', 'i': 'vowel', 'u': 'vowel', 'a': 'vowel', 'o': 'vowel'}"
            ]
          },
          "metadata": {},
          "execution_count": 74
        }
      ]
    },
    {
      "cell_type": "code",
      "source": [
        "#delete example\n",
        "del vowels\n",
        "vowels"
      ],
      "metadata": {
        "colab": {
          "base_uri": "https://localhost:8080/",
          "height": 176
        },
        "id": "YisZYkm-8Fds",
        "outputId": "32fa0f3a-094a-4a21-ac1e-092dbdc0b485"
      },
      "execution_count": 75,
      "outputs": [
        {
          "output_type": "error",
          "ename": "NameError",
          "evalue": "name 'vowels' is not defined",
          "traceback": [
            "\u001b[0;31m---------------------------------------------------------------------------\u001b[0m",
            "\u001b[0;31mNameError\u001b[0m                                 Traceback (most recent call last)",
            "\u001b[0;32m<ipython-input-75-a92424eab74d>\u001b[0m in \u001b[0;36m<cell line: 3>\u001b[0;34m()\u001b[0m\n\u001b[1;32m      1\u001b[0m \u001b[0;31m#delete example\u001b[0m\u001b[0;34m\u001b[0m\u001b[0;34m\u001b[0m\u001b[0m\n\u001b[1;32m      2\u001b[0m \u001b[0;32mdel\u001b[0m \u001b[0mvowels\u001b[0m\u001b[0;34m\u001b[0m\u001b[0;34m\u001b[0m\u001b[0m\n\u001b[0;32m----> 3\u001b[0;31m \u001b[0mvowels\u001b[0m\u001b[0;34m\u001b[0m\u001b[0;34m\u001b[0m\u001b[0m\n\u001b[0m",
            "\u001b[0;31mNameError\u001b[0m: name 'vowels' is not defined"
          ]
        }
      ]
    },
    {
      "cell_type": "code",
      "source": [],
      "metadata": {
        "id": "R57dfrH18jbu"
      },
      "execution_count": null,
      "outputs": []
    },
    {
      "cell_type": "markdown",
      "source": [
        "8 -  Discuss the importance of dictionary keys being immutable and provide examples.\n",
        "\n",
        "The key of a dictionary needs to be unchangeable. This implies that a key cannot be altered after it has been created. Because it guarantees that the dictionary can effectively look up values based on their keys, immutability is crucial for keys. It would be hard to locate the corresponding item in the dictionary if a key's hash value changed due to mutability."
      ],
      "metadata": {
        "id": "OUlAJh3i8miP"
      }
    },
    {
      "cell_type": "code",
      "source": [
        "#example of hash value\n",
        "my_dict = {\n",
        "  \"brand\": \"Gucchi\",\n",
        "  \"catg\": \"Bottoms\",\n",
        "  \"Color\": \"Red\"}\n",
        "my_dict"
      ],
      "metadata": {
        "colab": {
          "base_uri": "https://localhost:8080/"
        },
        "id": "swqm7gsBuBjU",
        "outputId": "ada5018e-e600-4698-cca4-c5d35735a070"
      },
      "execution_count": 1,
      "outputs": [
        {
          "output_type": "execute_result",
          "data": {
            "text/plain": [
              "{'brand': 'Gucchi', 'catg': 'Bottoms', 'Color': 'Red'}"
            ]
          },
          "metadata": {},
          "execution_count": 1
        }
      ]
    },
    {
      "cell_type": "code",
      "source": [
        "\n",
        "my_dict[\"Color\"] = \"Blue\"\n",
        "my_dict\n"
      ],
      "metadata": {
        "colab": {
          "base_uri": "https://localhost:8080/"
        },
        "id": "uafFhb7CuFm8",
        "outputId": "e9516cfd-874a-4746-ff8a-1828f921477e"
      },
      "execution_count": 6,
      "outputs": [
        {
          "output_type": "execute_result",
          "data": {
            "text/plain": [
              "{'brand': 'Gucchi', 'catg': 'Bottoms', 'Color': 'Blue', 'Blue': 'Print'}"
            ]
          },
          "metadata": {},
          "execution_count": 6
        }
      ]
    },
    {
      "cell_type": "code",
      "source": [
        "\n"
      ],
      "metadata": {
        "id": "UvoC5SBCwuVq"
      },
      "execution_count": 6,
      "outputs": []
    },
    {
      "cell_type": "code",
      "source": [],
      "metadata": {
        "id": "UkLv8n5ExpqG"
      },
      "execution_count": null,
      "outputs": []
    }
  ]
}