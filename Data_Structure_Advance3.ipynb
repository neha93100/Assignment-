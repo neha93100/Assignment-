{
  "nbformat": 4,
  "nbformat_minor": 0,
  "metadata": {
    "colab": {
      "provenance": []
    },
    "kernelspec": {
      "name": "python3",
      "display_name": "Python 3"
    },
    "language_info": {
      "name": "python"
    }
  },
  "cells": [
    {
      "cell_type": "markdown",
      "source": [
        "1 - Write a code to reverse a string."
      ],
      "metadata": {
        "id": "3_6mJ4dCSFtw"
      }
    },
    {
      "cell_type": "code",
      "source": [
        "string = \"Hello Neha\"\n",
        "reversed_string = string[::-1]\n",
        "print(reversed_string)"
      ],
      "metadata": {
        "colab": {
          "base_uri": "https://localhost:8080/"
        },
        "id": "DA8ENsHbSKuY",
        "outputId": "59a89889-0378-4681-becb-a1864a47a134"
      },
      "execution_count": null,
      "outputs": [
        {
          "output_type": "stream",
          "name": "stdout",
          "text": [
            "aheN olleH\n"
          ]
        }
      ]
    },
    {
      "cell_type": "markdown",
      "source": [
        "2 - write a code to count the number of vowels in a string ."
      ],
      "metadata": {
        "id": "sWEdF5saSzme"
      }
    },
    {
      "cell_type": "code",
      "source": [
        "vowels = \"aeiouAEIOU\"\n",
        "string = \"Hello Neha\"\n",
        "count = 0\n",
        "for char in string:\n",
        "    if char in vowels:\n",
        "        count += 1\n",
        "print(count)"
      ],
      "metadata": {
        "colab": {
          "base_uri": "https://localhost:8080/"
        },
        "id": "8lORsOGsS7TO",
        "outputId": "95aab276-487d-4182-da43-6bc778f90576"
      },
      "execution_count": null,
      "outputs": [
        {
          "output_type": "stream",
          "name": "stdout",
          "text": [
            "4\n"
          ]
        }
      ]
    },
    {
      "cell_type": "markdown",
      "source": [
        "3 -  Write a code to check if a given string is a palindrome or not."
      ],
      "metadata": {
        "id": "NGMZx_WsTDsr"
      }
    },
    {
      "cell_type": "code",
      "source": [
        "str1 = \"madam\"\n",
        "str2 = str1[::-1]\n",
        "if str1 == str2:\n",
        "    print(\" str1 is Palindrome\")\n",
        "else:\n",
        "    print(\"str1 is Not Palindrome\")"
      ],
      "metadata": {
        "colab": {
          "base_uri": "https://localhost:8080/"
        },
        "id": "ChNTK7NkfWee",
        "outputId": "a86d7460-2b17-476a-92c5-a85142549e69"
      },
      "execution_count": null,
      "outputs": [
        {
          "output_type": "stream",
          "name": "stdout",
          "text": [
            " str1 is Palindrome\n"
          ]
        }
      ]
    },
    {
      "cell_type": "markdown",
      "source": [
        "4 - Write a code to check if two given strings are anagrams of each other."
      ],
      "metadata": {
        "id": "d3cByu-nfu6U"
      }
    },
    {
      "cell_type": "code",
      "source": [
        "str1 = \"listen\"\n",
        "str2 = \"silent\"\n",
        "if sorted(str1) == sorted(str2):\n",
        "    print(\"str1 and str2 are anagrams\")\n",
        "else:\n",
        "    print(\"str1 and str2 are not anagrams\")"
      ],
      "metadata": {
        "colab": {
          "base_uri": "https://localhost:8080/"
        },
        "id": "axcFzb7CgDvz",
        "outputId": "df094fad-e05b-4bbe-beea-6a0dfae9dd2d"
      },
      "execution_count": null,
      "outputs": [
        {
          "output_type": "stream",
          "name": "stdout",
          "text": [
            "str1 and str2 are anagrams\n"
          ]
        }
      ]
    },
    {
      "cell_type": "markdown",
      "source": [
        "5 -  Write a code to find all occurrences of a given substring within another string."
      ],
      "metadata": {
        "id": "UKq9F8XWgOs3"
      }
    },
    {
      "cell_type": "code",
      "source": [
        "str3 = 'abracadabra'\n",
        "substring = 'ra'\n",
        "occurrences = [i for i in range(len(str3)) if str3.startswith(substring, i)]\n",
        "print(occurrences)"
      ],
      "metadata": {
        "colab": {
          "base_uri": "https://localhost:8080/"
        },
        "id": "SrQhdkWygfTG",
        "outputId": "86f9d944-caf8-4c8f-a526-f1e063e0ccf2"
      },
      "execution_count": null,
      "outputs": [
        {
          "output_type": "stream",
          "name": "stdout",
          "text": [
            "[2, 9]\n"
          ]
        }
      ]
    },
    {
      "cell_type": "markdown",
      "source": [
        "6 -  Write a code to perform basic string compression using the counts of repeated characters."
      ],
      "metadata": {
        "id": "jCXgQ5SqhE4K"
      }
    },
    {
      "cell_type": "code",
      "source": [
        "def compress_string(s):\n",
        "    if not s:\n",
        "        return \"\"\n",
        "\n",
        "    compressed = []\n",
        "    count = 1\n",
        "\n",
        "    # Iterate through the string\n",
        "    for i in range(1, len(s)):\n",
        "        if s[i] == s[i - 1]:\n",
        "            count += 1\n",
        "        else:\n",
        "            compressed.append(s[i - 1] + str(count))\n",
        "            count = 1\n",
        "\n",
        "    # Append the last character and its count\n",
        "    compressed.append(s[-1] + str(count))\n",
        "\n",
        "    # Join the list into a compressed string\n",
        "    compressed_string = ''.join(compressed)\n",
        "\n",
        "    # Return the original string if the compressed one is not smaller\n",
        "    return compressed_string if len(compressed_string) < len(s) else s\n",
        "\n",
        "# Example usage:\n",
        "input_string = \"aaabbccccdaa\"\n",
        "compressed_string = compress_string(input_string)\n",
        "print(f'Compressed string: {compressed_string}')\n"
      ],
      "metadata": {
        "id": "eqnCALWwjNwj",
        "colab": {
          "base_uri": "https://localhost:8080/"
        },
        "outputId": "9c55b040-a045-478b-8688-11990cbdec2b"
      },
      "execution_count": 15,
      "outputs": [
        {
          "output_type": "stream",
          "name": "stdout",
          "text": [
            "Compressed string: a3b2c4d1a2\n"
          ]
        }
      ]
    },
    {
      "cell_type": "markdown",
      "source": [
        "7 - Write a code to determine if a string has all unique characters."
      ],
      "metadata": {
        "id": "Kraxde7zqEx6"
      }
    },
    {
      "cell_type": "code",
      "source": [
        "str1 = \"neha\"\n",
        "if len(str1) == len(set(str1)):\n",
        "    print(\"str1 has all unique characters\")\n",
        "else:\n",
        "    print(\"str1 does not have all unique characters\")"
      ],
      "metadata": {
        "colab": {
          "base_uri": "https://localhost:8080/"
        },
        "id": "XGGb3APxuX2O",
        "outputId": "c0d9e92e-b995-437b-9928-7af14b1c4451"
      },
      "execution_count": 16,
      "outputs": [
        {
          "output_type": "stream",
          "name": "stdout",
          "text": [
            "str1 has all unique characters\n"
          ]
        }
      ]
    },
    {
      "cell_type": "markdown",
      "source": [
        "8 - Write a code to convert a given string to uppercase or lowercase."
      ],
      "metadata": {
        "id": "C6WaRQ6Tuqnf"
      }
    },
    {
      "cell_type": "code",
      "source": [
        "str1 = \"Neha\"\n",
        "print(str1.lower())"
      ],
      "metadata": {
        "colab": {
          "base_uri": "https://localhost:8080/"
        },
        "id": "C8e6DuGeuz44",
        "outputId": "73853cf7-b688-4622-a825-9dee20861fa3"
      },
      "execution_count": 17,
      "outputs": [
        {
          "output_type": "stream",
          "name": "stdout",
          "text": [
            "neha\n"
          ]
        }
      ]
    },
    {
      "cell_type": "code",
      "source": [
        "str1 = \"neha\"\n",
        "print(str1.upper())"
      ],
      "metadata": {
        "colab": {
          "base_uri": "https://localhost:8080/"
        },
        "id": "-oKIceQuu33Y",
        "outputId": "9f91b8a4-4487-42e2-f7f8-58485e172b39"
      },
      "execution_count": 18,
      "outputs": [
        {
          "output_type": "stream",
          "name": "stdout",
          "text": [
            "NEHA\n"
          ]
        }
      ]
    },
    {
      "cell_type": "markdown",
      "source": [
        "9 - Write a code to count the number of words in a string."
      ],
      "metadata": {
        "id": "2O6Rg3QMu7f9"
      }
    },
    {
      "cell_type": "code",
      "source": [
        "string1 = 'I am Neha, How are you?'\n",
        "Number_of_words = len(string1.split())\n",
        "print(f'Number of words: {Number_of_words}')\n"
      ],
      "metadata": {
        "colab": {
          "base_uri": "https://localhost:8080/"
        },
        "id": "vEtELL4UvD-4",
        "outputId": "0b62cffc-1168-4fde-9f5f-f79454c0445f"
      },
      "execution_count": 21,
      "outputs": [
        {
          "output_type": "stream",
          "name": "stdout",
          "text": [
            "Number of words: 6\n"
          ]
        }
      ]
    },
    {
      "cell_type": "markdown",
      "source": [
        "10 - Write a code to concatenate two strings without using the + operator."
      ],
      "metadata": {
        "id": "0HkrUK8CwMcf"
      }
    },
    {
      "cell_type": "code",
      "source": [
        "#concatenate two strings\n",
        "string1 = \"Hii, \"\n",
        "string2 = \"How are you?\"\n",
        "result = ''.join([string1, string2])\n",
        "print(result)"
      ],
      "metadata": {
        "colab": {
          "base_uri": "https://localhost:8080/"
        },
        "id": "CINIFvvgwUSD",
        "outputId": "d172699c-c443-4554-dc69-e3531d8d41b5"
      },
      "execution_count": 24,
      "outputs": [
        {
          "output_type": "stream",
          "name": "stdout",
          "text": [
            "Hii, How are you?\n"
          ]
        }
      ]
    },
    {
      "cell_type": "markdown",
      "source": [
        "11 - Write a code to remove all occurrences of a specific element from a list."
      ],
      "metadata": {
        "id": "Uz4Ge07HxNF8"
      }
    },
    {
      "cell_type": "code",
      "source": [
        "my_list = [1, 2, 3, 2, 4, 2, 5]\n",
        "element_to_remove = 2\n",
        "my_list = [x for x in my_list if x != element_to_remove]\n",
        "print(my_list)"
      ],
      "metadata": {
        "colab": {
          "base_uri": "https://localhost:8080/"
        },
        "id": "dZFjo4nAxa20",
        "outputId": "42779fff-6c04-44c6-deba-6bc084ead76a"
      },
      "execution_count": 26,
      "outputs": [
        {
          "output_type": "stream",
          "name": "stdout",
          "text": [
            "[1, 3, 4, 5]\n"
          ]
        }
      ]
    },
    {
      "cell_type": "markdown",
      "source": [
        "12 -  Implement a code to find the second largest number in a given list of integers."
      ],
      "metadata": {
        "id": "0uf31GSPxynG"
      }
    },
    {
      "cell_type": "code",
      "source": [
        "my_list = [1, 2, 3, 4, 5]\n",
        "my_list.sort()\n",
        "second_largest = my_list[-2]\n",
        "print(second_largest)"
      ],
      "metadata": {
        "colab": {
          "base_uri": "https://localhost:8080/"
        },
        "id": "wHR5oqBxyHyy",
        "outputId": "c4c40b68-c8e3-449d-acc4-794c57a36002"
      },
      "execution_count": 27,
      "outputs": [
        {
          "output_type": "stream",
          "name": "stdout",
          "text": [
            "4\n"
          ]
        }
      ]
    },
    {
      "cell_type": "markdown",
      "source": [
        "13 -  Create a code to count the occurrences of each element in a list and return a dictionary with elements as keys and their counts as values."
      ],
      "metadata": {
        "id": "wK-4Yb_UyQbQ"
      }
    },
    {
      "cell_type": "code",
      "source": [
        "my_list = [1, 2, 3, 2, 4, 2, 5]\n",
        "element_counts = {}\n",
        "for element in my_list:\n",
        "    if element in element_counts:\n",
        "        element_counts[element] += 1\n",
        "    else:\n",
        "        element_counts[element] = 1\n",
        "print(element_counts)"
      ],
      "metadata": {
        "colab": {
          "base_uri": "https://localhost:8080/"
        },
        "id": "eG9Z8bNnyg62",
        "outputId": "1dadb4a9-f950-431d-ed7d-a325d00f9cf0"
      },
      "execution_count": 28,
      "outputs": [
        {
          "output_type": "stream",
          "name": "stdout",
          "text": [
            "{1: 1, 2: 3, 3: 1, 4: 1, 5: 1}\n"
          ]
        }
      ]
    },
    {
      "cell_type": "markdown",
      "source": [
        "14 - Write a code to reverse a list in-place without using any built-in reverse functions."
      ],
      "metadata": {
        "id": "NVHonMBay1fM"
      }
    },
    {
      "cell_type": "code",
      "source": [
        "def reverse_list(lst):\n",
        "    left = 0\n",
        "    right = len(lst) - 1\n",
        "\n",
        "    while left < right:\n",
        "        # Swap elements at the left and right indices\n",
        "        lst[left], lst[right] = lst[right], lst[left]\n",
        "        # Move towards the center\n",
        "        left += 1\n",
        "        right -= 1\n",
        "\n",
        "# Example usage:\n",
        "my_list = [1, 2, 3, 4, 5]\n",
        "reverse_list(my_list)\n",
        "print('Reversed list:', my_list)\n"
      ],
      "metadata": {
        "colab": {
          "base_uri": "https://localhost:8080/"
        },
        "id": "NI_Xec7Ry8R5",
        "outputId": "1a49f3a6-22a4-4efc-a556-7ebcfff97513"
      },
      "execution_count": 32,
      "outputs": [
        {
          "output_type": "stream",
          "name": "stdout",
          "text": [
            "Reversed list: [5, 4, 3, 2, 1]\n"
          ]
        }
      ]
    },
    {
      "cell_type": "markdown",
      "source": [
        "15 -  Implement a code to find and remove duplicates from a list while preserving the original order of elements."
      ],
      "metadata": {
        "id": "cwyczM_UzjrP"
      }
    },
    {
      "cell_type": "code",
      "source": [
        "my_list = [1, 2, 3, 2, 4, 2,4,5,6, 5]\n",
        "unique_list = []\n",
        "for element in my_list:\n",
        "    if element not in unique_list:\n",
        "        unique_list.append(element)\n",
        "my_list = unique_list\n",
        "print(my_list)"
      ],
      "metadata": {
        "colab": {
          "base_uri": "https://localhost:8080/"
        },
        "id": "MZFWp_sMzwpQ",
        "outputId": "cfa10d2f-8cec-41aa-aa14-5d338f0091c8"
      },
      "execution_count": 35,
      "outputs": [
        {
          "output_type": "stream",
          "name": "stdout",
          "text": [
            "[1, 2, 3, 4, 5, 6]\n"
          ]
        }
      ]
    },
    {
      "cell_type": "markdown",
      "source": [
        "16 - Create a code to check if a given list is sorted (either in ascending or descending order) or not."
      ],
      "metadata": {
        "id": "rYAUrkvv0PKh"
      }
    },
    {
      "cell_type": "code",
      "source": [
        "def is_sorted(lst):\n",
        "    if not lst:\n",
        "        return True  # An empty list is considered sorted\n",
        "\n",
        "    ascending = all(lst[i] <= lst[i + 1] for i in range(len(lst) - 1))\n",
        "    descending = all(lst[i] >= lst[i + 1] for i in range(len(lst) - 1))\n",
        "\n",
        "    return ascending or descending\n",
        "\n",
        "# Example usage:\n",
        "my_list = [1, 2, 3, 4, 5,6,7,8,9,10]\n",
        "if is_sorted(my_list):\n",
        "    print('The list is sorted.')\n",
        "else:\n",
        "    print('The list is not sorted.')\n",
        "\n",
        "# Testing with a descending list\n",
        "my_list_desc = [5, 4, 3, 2, 1]\n",
        "if is_sorted(my_list_desc):\n",
        "    print('The list is sorted.')\n",
        "else:\n",
        "    print('The list is not sorted.')\n",
        "\n"
      ],
      "metadata": {
        "colab": {
          "base_uri": "https://localhost:8080/"
        },
        "id": "CStDPB120V6P",
        "outputId": "ee45fcfe-c572-4b47-f36d-8705aa771b14"
      },
      "execution_count": 38,
      "outputs": [
        {
          "output_type": "stream",
          "name": "stdout",
          "text": [
            "The list is sorted.\n",
            "The list is sorted.\n"
          ]
        }
      ]
    },
    {
      "cell_type": "markdown",
      "source": [
        "17 - Write a code to merge two sorted lists into a single sorted list.\n"
      ],
      "metadata": {
        "id": "bIp31KlU1Si0"
      }
    },
    {
      "cell_type": "code",
      "source": [
        "sorted_list1 = [1, 3, 5, 7, 9]\n",
        "sorted_list2 = [2, 4, 6, 8, 10]\n",
        "merged_list = sorted(sorted_list1 + sorted_list2)\n",
        "print(merged_list)"
      ],
      "metadata": {
        "colab": {
          "base_uri": "https://localhost:8080/"
        },
        "id": "8Ksrewfq1oQD",
        "outputId": "47cb9e9c-64b0-4d37-a33b-be0e85f164c2"
      },
      "execution_count": 39,
      "outputs": [
        {
          "output_type": "stream",
          "name": "stdout",
          "text": [
            "[1, 2, 3, 4, 5, 6, 7, 8, 9, 10]\n"
          ]
        }
      ]
    },
    {
      "cell_type": "markdown",
      "source": [
        "18 - Implement a code to find the intersection of two given lists."
      ],
      "metadata": {
        "id": "SyWIcrT81zYz"
      }
    },
    {
      "cell_type": "code",
      "source": [
        "list1 = [1, 2, 3, 4, 5]\n",
        "list2 = [3, 4, 5, 6, 7]\n",
        "intersection = list(set(list1) & set(list2))\n",
        "print(intersection)\n"
      ],
      "metadata": {
        "colab": {
          "base_uri": "https://localhost:8080/"
        },
        "id": "LcymGlJS16TK",
        "outputId": "9e2a2f76-b4a4-4348-99a2-449709f36482"
      },
      "execution_count": 41,
      "outputs": [
        {
          "output_type": "stream",
          "name": "stdout",
          "text": [
            "[3, 4, 5]\n"
          ]
        }
      ]
    },
    {
      "cell_type": "markdown",
      "source": [
        "19 - Create a code to find the union of two lists without duplicates."
      ],
      "metadata": {
        "id": "7xASDC7u2L3Z"
      }
    },
    {
      "cell_type": "code",
      "source": [
        "list1 = [1, 2, 3, 4, 5]\n",
        "list2 = [3, 4, 5, 6, 7]\n",
        "union = list(set(list1 + list2))\n",
        "print(union)"
      ],
      "metadata": {
        "colab": {
          "base_uri": "https://localhost:8080/"
        },
        "id": "fWqZthMS2Zh9",
        "outputId": "7c8d152c-caa3-44f1-d570-cb64b485bfe7"
      },
      "execution_count": 42,
      "outputs": [
        {
          "output_type": "stream",
          "name": "stdout",
          "text": [
            "[1, 2, 3, 4, 5, 6, 7]\n"
          ]
        }
      ]
    },
    {
      "cell_type": "markdown",
      "source": [
        "20 - Write a code to shuffle a given list randomly without using any built-in shuffle functions."
      ],
      "metadata": {
        "id": "sYyvPu6T2hMP"
      }
    },
    {
      "cell_type": "code",
      "source": [
        "list1 = [1, 2, 3, 4, 5]\n",
        "import random\n",
        "shuffled_list = random.sample(list1, len(list1))\n",
        "print(shuffled_list)"
      ],
      "metadata": {
        "colab": {
          "base_uri": "https://localhost:8080/"
        },
        "id": "bBl8u9ge3ZTf",
        "outputId": "4cd9d5e7-8ece-4913-b3d2-9f5eb6d77784"
      },
      "execution_count": 43,
      "outputs": [
        {
          "output_type": "stream",
          "name": "stdout",
          "text": [
            "[4, 3, 1, 5, 2]\n"
          ]
        }
      ]
    },
    {
      "cell_type": "markdown",
      "source": [
        "21 - Write a code that takes two tuples as input and returns a new tuple containing elements that are common to both input tuples."
      ],
      "metadata": {
        "id": "dzxaVzZh3n49"
      }
    },
    {
      "cell_type": "code",
      "source": [
        "tuple1 = (1, 2, 3, 4, 5)\n",
        "tuple2 = (3, 4, 5, 6, 7)\n",
        "common_tuple = tuple(set(tuple1) & set(tuple2))\n",
        "print(common_tuple)"
      ],
      "metadata": {
        "colab": {
          "base_uri": "https://localhost:8080/"
        },
        "id": "x4eI1Urg37j3",
        "outputId": "5fda4215-a7eb-49c6-8137-c9d33831a155"
      },
      "execution_count": 44,
      "outputs": [
        {
          "output_type": "stream",
          "name": "stdout",
          "text": [
            "(3, 4, 5)\n"
          ]
        }
      ]
    },
    {
      "cell_type": "markdown",
      "source": [
        "22 - Create a code that prompts the user to enter two sets of integers separated by commas. Then, print the intersection of these two sets."
      ],
      "metadata": {
        "id": "c2_ebtss4S3G"
      }
    },
    {
      "cell_type": "code",
      "source": [
        "set1 = set(map(int, input(\"Enter the first set of integers separated by commas: \").split(',')))\n",
        "set2 = set(map(int, input(\"Enter the second set of integers separated by commas: \").split(',')))\n",
        "intersection = set1.intersection(set2)\n",
        "print(\"Intersection:\", intersection)\n"
      ],
      "metadata": {
        "colab": {
          "base_uri": "https://localhost:8080/"
        },
        "id": "acpYB44j4b2f",
        "outputId": "c0f24edf-03c9-4981-8986-7d2a790b601a"
      },
      "execution_count": 48,
      "outputs": [
        {
          "output_type": "stream",
          "name": "stdout",
          "text": [
            "Enter the first set of integers separated by commas: 1,2,3,4,5\n",
            "Enter the second set of integers separated by commas: 5,4,3,2,6,7,8,9\n",
            "Intersection: {2, 3, 4, 5}\n"
          ]
        }
      ]
    },
    {
      "cell_type": "markdown",
      "source": [
        "23 - Write a code to concatenate two tuples. The function should take two tuples as input and return a new ,tuple containing elements from both input tuples."
      ],
      "metadata": {
        "id": "SgKKnzEc5JyR"
      }
    },
    {
      "cell_type": "code",
      "source": [
        "tuple_1 = (1, 2, 3)\n",
        "tuple_2 = (4, 5, 6)\n",
        "concatenated_tuple = tuple_1 + tuple_2\n",
        "print(concatenated_tuple)\n"
      ],
      "metadata": {
        "colab": {
          "base_uri": "https://localhost:8080/"
        },
        "id": "axEj9ld26stw",
        "outputId": "38a567b3-c43c-4b12-8a37-ce8b073109d1"
      },
      "execution_count": 49,
      "outputs": [
        {
          "output_type": "stream",
          "name": "stdout",
          "text": [
            "(1, 2, 3, 4, 5, 6)\n"
          ]
        }
      ]
    },
    {
      "cell_type": "markdown",
      "source": [
        "24 - Develop a code that prompts the user to input two sets of strings. Then, print the elements that are present in the first set but not in the second set."
      ],
      "metadata": {
        "id": "wQbzT1VW7DGR"
      }
    },
    {
      "cell_type": "code",
      "source": [
        "set1 = set(input(\"Enter the first set of strings separated by commas: \").split(','))\n",
        "set2 = set(input(\"Enter the second set of strings separated by commas: \").split(','))\n",
        "difference = set1.difference(set2)\n",
        "print(\"Elements in the first set but not in the second set:\", difference)"
      ],
      "metadata": {
        "colab": {
          "base_uri": "https://localhost:8080/"
        },
        "id": "leIPirn08JlL",
        "outputId": "4d7d97f8-4058-4640-a1ff-161171b91ae7"
      },
      "execution_count": 51,
      "outputs": [
        {
          "output_type": "stream",
          "name": "stdout",
          "text": [
            "Enter the first set of strings separated by commas: 'neha','priyanka','mona'\n",
            "Enter the second set of strings separated by commas: 'priya', anushka\n",
            "Elements in the first set but not in the second set: {\"'priyanka'\", \"'neha'\", \"'mona'\"}\n"
          ]
        }
      ]
    },
    {
      "cell_type": "markdown",
      "source": [
        "25 - Create a code that takes a tuple and two integers as input. The function should return a new tuple containing elements from the original tuple within the specified range of indices."
      ],
      "metadata": {
        "id": "yPQ3bkrP9zm8"
      }
    },
    {
      "cell_type": "code",
      "source": [
        "tuple1 = (1, 2, 3, 4, 5, 6, 7, 8, 9, 10)\n",
        "start_index = int(input(\"Enter the start index: \"))\n",
        "end_index = int(input(\"Enter the end index: \"))\n",
        "new_tuple = tuple1[start_index:end_index+1]\n",
        "print(new_tuple)"
      ],
      "metadata": {
        "colab": {
          "base_uri": "https://localhost:8080/"
        },
        "id": "IZXI39QU990f",
        "outputId": "498aea06-c410-484b-e9d0-dfc53e0205e6"
      },
      "execution_count": 53,
      "outputs": [
        {
          "output_type": "stream",
          "name": "stdout",
          "text": [
            "Enter the start index: 2\n",
            "Enter the end index: 10\n",
            "(3, 4, 5, 6, 7, 8, 9, 10)\n"
          ]
        }
      ]
    },
    {
      "cell_type": "markdown",
      "source": [
        "26 -  Write a code that prompts the user to input two sets of characters. Then, print the union of these two sets."
      ],
      "metadata": {
        "id": "LQyAHfTG_7bi"
      }
    },
    {
      "cell_type": "code",
      "source": [
        "set1 = set(input(\"Enter the first set of characters separated by commas: \").split(','))\n",
        "set2 = set(input(\"Enter the second set of characters separated by commas: \").split(','))\n",
        "union = set1.union(set2)\n",
        "print(\"Union:\", union)"
      ],
      "metadata": {
        "colab": {
          "base_uri": "https://localhost:8080/"
        },
        "id": "gXzIMEHgAGsA",
        "outputId": "08423958-40e2-4a52-84f3-0d0bb5bd8d3d"
      },
      "execution_count": 57,
      "outputs": [
        {
          "output_type": "stream",
          "name": "stdout",
          "text": [
            "Enter the first set of characters separated by commas: 1,2,3,5,6\n",
            "Enter the second set of characters separated by commas: 4,5,3,2,1\n",
            "Union: {'6', '2', '4', '3', '5', '1'}\n"
          ]
        }
      ]
    },
    {
      "cell_type": "markdown",
      "source": [
        "27 -  Develop a code that takes a tuple of integers as input. The function should return the maximum and minimum values from the tuple using tuple unpacking."
      ],
      "metadata": {
        "id": "ZfzhTS_iBEZU"
      }
    },
    {
      "cell_type": "code",
      "source": [
        "tuple1 = (1, 2, 3, 4, 5, 6, 7, 8, 9, 10)\n",
        "max_value, min_value = max(tuple1), min(tuple1)\n",
        "print(\"Maximum value:\", max_value)\n",
        "print(\"Minimum value:\", min_value)"
      ],
      "metadata": {
        "colab": {
          "base_uri": "https://localhost:8080/"
        },
        "id": "LyWnOclKBPNh",
        "outputId": "0169e540-469a-4f51-8b48-03ee9303a32f"
      },
      "execution_count": 58,
      "outputs": [
        {
          "output_type": "stream",
          "name": "stdout",
          "text": [
            "Maximum value: 10\n",
            "Minimum value: 1\n"
          ]
        }
      ]
    },
    {
      "cell_type": "markdown",
      "source": [
        "28 -  Create a code that defines two sets of integers. Then, print the union, intersection, and difference of these two sets."
      ],
      "metadata": {
        "id": "qfDAtqgBBcmB"
      }
    },
    {
      "cell_type": "code",
      "source": [
        "set1 = {1, 2, 3, 4, 5}\n",
        "set2 = {3, 4, 5, 6, 7}\n",
        "union = set1.union(set2)\n",
        "intersection = set1.intersection(set2)\n",
        "difference = set1.difference(set2)\n",
        "print(\"Union:\", union)\n",
        "print(\"Intersection:\", intersection)\n",
        "print(\"Difference:\", difference)"
      ],
      "metadata": {
        "colab": {
          "base_uri": "https://localhost:8080/"
        },
        "id": "sfuSsqw5Bg6B",
        "outputId": "9c0d3a09-5ba1-4216-c53e-e1f24ef4aabb"
      },
      "execution_count": 59,
      "outputs": [
        {
          "output_type": "stream",
          "name": "stdout",
          "text": [
            "Union: {1, 2, 3, 4, 5, 6, 7}\n",
            "Intersection: {3, 4, 5}\n",
            "Difference: {1, 2}\n"
          ]
        }
      ]
    },
    {
      "cell_type": "markdown",
      "source": [
        "29 - Write a code that takes a tuple and an element as input. The function should return the count of occurrences of the given element in the tuple."
      ],
      "metadata": {
        "id": "e3t4wNBrBtrm"
      }
    },
    {
      "cell_type": "code",
      "source": [
        "tuple1 = (1, 2, 3, 4, 5, 6, 7, 8, 9, 10)\n",
        "element = int(input(\"Enter the element: \"))\n",
        "count = tuple1.count(element)\n",
        "print(\"Count of occurrences:\", count)"
      ],
      "metadata": {
        "colab": {
          "base_uri": "https://localhost:8080/"
        },
        "id": "4gChrJhZB5Qm",
        "outputId": "b42426d0-8f58-454a-9f64-2dc79b190601"
      },
      "execution_count": 61,
      "outputs": [
        {
          "output_type": "stream",
          "name": "stdout",
          "text": [
            "Enter the element: 1\n",
            "Count of occurrences: 1\n"
          ]
        }
      ]
    },
    {
      "cell_type": "markdown",
      "source": [
        "30 -  Develop a code that prompts the user to input two sets of strings. Then, print the symmetric difference of these two sets."
      ],
      "metadata": {
        "id": "zMwo_ktlCfo0"
      }
    },
    {
      "cell_type": "code",
      "source": [
        "set1 = set(input(\"Enter the first set of strings separated by commas: \").split(','))\n",
        "set2 = set(input(\"Enter the second set of strings separated by commas: \").split(','))\n",
        "symmetric_difference = set1.symmetric_difference(set2)\n",
        "\n",
        "print(\"Symmetric difference:\", symmetric_difference)"
      ],
      "metadata": {
        "colab": {
          "base_uri": "https://localhost:8080/"
        },
        "id": "9HKd0AGfC3ly",
        "outputId": "d19b7b29-4ba4-4888-d62b-23a78548ea21"
      },
      "execution_count": 69,
      "outputs": [
        {
          "output_type": "stream",
          "name": "stdout",
          "text": [
            "Enter the first set of strings separated by commas: mango,apple, banana\n",
            "Enter the second set of strings separated by commas: berry, orange\n",
            "Symmetric difference: {' orange', 'mango', 'apple', 'berry', ' banana'}\n"
          ]
        }
      ]
    },
    {
      "cell_type": "markdown",
      "source": [
        "31 -  Write a code that takes a list of words as input and returns a dictionary where the keys are unique words and the values are the frequencies of those words in the input list."
      ],
      "metadata": {
        "id": "m5-OJZ5XFvOu"
      }
    },
    {
      "cell_type": "code",
      "source": [
        "my_list = ['apple', 'banana', 'apple', 'orange', 'banana', 'apple']\n",
        "word_frequency = {}\n",
        "for word in my_list:\n",
        "    if word in word_frequency:\n",
        "        word_frequency[word] += 1\n",
        "    else:\n",
        "        word_frequency[word] = 1\n",
        "print(word_frequency)"
      ],
      "metadata": {
        "colab": {
          "base_uri": "https://localhost:8080/"
        },
        "id": "XwB4JyvNF5J5",
        "outputId": "3bdc4b35-a851-4b0e-d122-7ed5fbe26a83"
      },
      "execution_count": 70,
      "outputs": [
        {
          "output_type": "stream",
          "name": "stdout",
          "text": [
            "{'apple': 3, 'banana': 2, 'orange': 1}\n"
          ]
        }
      ]
    },
    {
      "cell_type": "markdown",
      "source": [
        "32 -  Write a code that takes two dictionaries as input and merges them into a single dictionary. If there are common keys, the values should be added together."
      ],
      "metadata": {
        "id": "aXYLLk1cGJ-N"
      }
    },
    {
      "cell_type": "code",
      "source": [
        "my_dict1 = {'a': 1, 'b': 2, 'c': 3}\n",
        "my_dict2 = {'b': 4, 'c': 5, 'd': 6}\n",
        "merged_dict = {}\n",
        "for key, value in my_dict1.items():\n",
        "    merged_dict[key] = value\n",
        "for key, value in my_dict2.items():\n",
        "  my_dict1 = {'a': 1, 'b': 2, 'c': 3}\n",
        "  my_dict2 = {'b': 4, 'c': 5, 'd': 6}\n",
        "merged_dict = {}\n",
        "for key, value in my_dict1.items():\n",
        "    merged_dict[key] = value\n",
        "for key, value in my_dict2.items():\n",
        "    if key in merged_dict:\n",
        "        merged_dict[key] += value\n",
        "    else:\n",
        "        merged_dict[key] = value\n",
        "print(merged_dict)\n"
      ],
      "metadata": {
        "colab": {
          "base_uri": "https://localhost:8080/"
        },
        "id": "xqScn2VLGXyA",
        "outputId": "6a4f6398-cb03-4cfa-f01a-011c7a19b76d"
      },
      "execution_count": 78,
      "outputs": [
        {
          "output_type": "stream",
          "name": "stdout",
          "text": [
            "{'a': 1, 'b': 6, 'c': 8, 'd': 6}\n"
          ]
        }
      ]
    },
    {
      "cell_type": "markdown",
      "source": [
        "33 - write a code to access a value in a nested dictionary. The function sholud take the dictonary and a list of keys as input, and return the corresponding value. if any of the keys do not exist in the dictionary, the function should return None."
      ],
      "metadata": {
        "id": "YBuiyJfPIFJl"
      }
    },
    {
      "cell_type": "code",
      "source": [
        "nested_dict = {'a': {'b': 2, 'c': 3}, 'd': {'e': 5, 'f': 6}}\n",
        "keys = ['a', 'b']\n",
        "value = nested_dict\n",
        "for key in keys:\n",
        "    if key in value:\n",
        "        value = value[key]\n",
        "    else:\n",
        "        value = None\n",
        "        break\n",
        "print(value)"
      ],
      "metadata": {
        "colab": {
          "base_uri": "https://localhost:8080/"
        },
        "id": "VDbqDkyMIKl7",
        "outputId": "e1dfbc48-3ea6-492a-a8d5-cf851a1f91fb"
      },
      "execution_count": 81,
      "outputs": [
        {
          "output_type": "stream",
          "name": "stdout",
          "text": [
            "2\n"
          ]
        }
      ]
    },
    {
      "cell_type": "markdown",
      "source": [
        "34 -  Write a code that takes a dictionary as input and returns a sorted version of it based on the values. You can choose whether to sort in ascending or descending order."
      ],
      "metadata": {
        "id": "AElVzgIYJCOd"
      }
    },
    {
      "cell_type": "code",
      "source": [
        "my_dict1 = {'a': 3, 'b': 1, 'c': 2}\n",
        "sorted_dict = dict(sorted(my_dict1.items(), key=lambda x: x[1]))\n",
        "print(sorted_dict)"
      ],
      "metadata": {
        "colab": {
          "base_uri": "https://localhost:8080/"
        },
        "id": "Bxmi5OU9JNdN",
        "outputId": "d1938584-df59-44a8-a96f-70bf8c608de9"
      },
      "execution_count": 82,
      "outputs": [
        {
          "output_type": "stream",
          "name": "stdout",
          "text": [
            "{'b': 1, 'c': 2, 'a': 3}\n"
          ]
        }
      ]
    },
    {
      "cell_type": "markdown",
      "source": [
        "35 - Write a code that inverts a dictionary, swapping keys and values. Ensure that the inverted dictionary correctly handles cases where multiple keys have the same value by storing the keys as a list in the inverted dictionary."
      ],
      "metadata": {
        "id": "fWxuOoRvJV-S"
      }
    },
    {
      "cell_type": "code",
      "source": [
        "my_dict1 = {'a': 1, 'b': 2, 'c': 1, 'd': 3}\n",
        "inverted_dict = {}\n",
        "for key, value in my_dict1.items():\n",
        "    if value in inverted_dict:\n",
        "        inverted_dict[value].append(key)\n",
        "    else:\n",
        "        inverted_dict[value] = [key]\n",
        "        print(inverted_dict)"
      ],
      "metadata": {
        "colab": {
          "base_uri": "https://localhost:8080/"
        },
        "id": "qImJhmgRJcZf",
        "outputId": "22bc028c-62ca-4b17-b334-72ba8e06dfb3"
      },
      "execution_count": 83,
      "outputs": [
        {
          "output_type": "stream",
          "name": "stdout",
          "text": [
            "{1: ['a']}\n",
            "{1: ['a'], 2: ['b']}\n",
            "{1: ['a', 'c'], 2: ['b'], 3: ['d']}\n"
          ]
        }
      ]
    },
    {
      "cell_type": "code",
      "source": [],
      "metadata": {
        "id": "0Cwp3RVEJnH0"
      },
      "execution_count": null,
      "outputs": []
    }
  ]
}